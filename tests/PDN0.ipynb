{
 "cells": [
  {
   "cell_type": "code",
   "execution_count": 1,
   "id": "dffdff3d",
   "metadata": {},
   "outputs": [],
   "source": [
    "import numpy as np\n",
    "from draughts1 import *\n",
    "\n",
    "from time import time\n",
    "\n",
    "from tensorflow.keras.models import Sequential, load_model\n",
    "from tensorflow.keras import Input\n",
    "from tensorflow.keras.layers import Conv2D, MaxPooling2D, Dense, Flatten, BatchNormalization\n",
    "from keras import backend as K\n",
    "\n",
    "Scan.set(\"variant\", \"normal\")\n",
    "Scan.set(\"book\", \"false\")\n",
    "Scan.set(\"book-ply\", \"4\")\n",
    "Scan.set(\"book-margin\", \"4\")\n",
    "Scan.set(\"ponder\", \"false\")\n",
    "Scan.set(\"threads\", \"1\")\n",
    "Scan.set(\"tt-size\", \"24\")\n",
    "Scan.init()"
   ]
  },
  {
   "cell_type": "code",
   "execution_count": null,
   "id": "42966354",
   "metadata": {},
   "outputs": [],
   "source": [
    "import pandas as pd\n",
    "\n",
    "nmoves = pd.read_csv('normal_moves.csv')"
   ]
  },
  {
   "cell_type": "code",
   "execution_count": null,
   "id": "ec149a63",
   "metadata": {},
   "outputs": [],
   "source": [
    "nmoves[(nmoves['from']==3)&(nmoves['to']==8)]['move_id'].iloc[0]"
   ]
  },
  {
   "cell_type": "code",
   "execution_count": null,
   "id": "2b2246bf",
   "metadata": {},
   "outputs": [],
   "source": [
    "nmoves"
   ]
  },
  {
   "cell_type": "code",
   "execution_count": null,
   "id": "01683b99",
   "metadata": {},
   "outputs": [],
   "source": []
  },
  {
   "cell_type": "code",
   "execution_count": null,
   "id": "4fd08f85",
   "metadata": {},
   "outputs": [],
   "source": [
    "games0 = parse_pdn_file('../games/wiersma.pdn')\n",
    "games1 = parse_pdn_file('2017.pdn')"
   ]
  },
  {
   "cell_type": "code",
   "execution_count": 17,
   "id": "57165097",
   "metadata": {},
   "outputs": [
    {
     "data": {
      "text/plain": [
       "(array([0, 2, 3, 7], dtype=int64),)"
      ]
     },
     "execution_count": 17,
     "metadata": {},
     "output_type": "execute_result"
    }
   ],
   "source": [
    "aa = np.array([1,2,1,1,4,5,6,1])\n",
    "result = np.where(aa == 1)\n",
    "result"
   ]
  },
  {
   "cell_type": "code",
   "execution_count": null,
   "id": "216e421d",
   "metadata": {},
   "outputs": [],
   "source": [
    "def convertPosToID(pos):\n",
    "\n",
    "    text = print_position(pos, False, True)\n",
    "\n",
    "    chr_player = 'o' if pos.is_white_to_move() else 'x'\n",
    "    chr_other = 'x' if pos.is_white_to_move() else 'o'\n",
    "\n",
    "    currentplayer_man = []\n",
    "    other_man = []\n",
    "    currentplayer_king = []\n",
    "    other_king = []\n",
    "\n",
    "    for a,i in enumerate(text[:-1]):\n",
    "        if a%10<5:\n",
    "            currentplayer_man.append(0)\n",
    "            other_man.append(0)\n",
    "            currentplayer_king.append(0)\n",
    "            other_king.append(0)\n",
    "        \n",
    "        currentplayer_man.append(1 if i==chr_player else 0)\n",
    "        other_man.append(1 if i==chr_other else 0)\n",
    "        currentplayer_king.append(1 if i==chr_player.upper() else 0)\n",
    "        other_king.append(1 if i==chr_other.upper() else 0)\n",
    "        \n",
    "        if a%10>=5:\n",
    "            currentplayer_man.append(0)\n",
    "            other_man.append(0)\n",
    "            currentplayer_king.append(0)\n",
    "            other_king.append(0)\n",
    "            \n",
    "\n",
    "    position = np.concatenate((currentplayer_man, other_man, currentplayer_king, other_king), axis=0)\n",
    "    return np.array(position)"
   ]
  },
  {
   "cell_type": "code",
   "execution_count": null,
   "id": "6d2a4cc6",
   "metadata": {},
   "outputs": [],
   "source": [
    "def get_pos(moves, hh):\n",
    "    posIDs = []\n",
    "    evals = []\n",
    "    hashs = []\n",
    "    pos = start_position()\n",
    "    for move in moves:\n",
    "        is_white = pos.white_man_count()==3 and pos.black_man_count()==2 and pos.white_king_count()==0 and pos.black_king_count()==0 and pos.is_white_to_move()\n",
    "        is_black = pos.white_man_count()==2 and pos.black_man_count()==3 and pos.white_king_count()==0 and pos.black_king_count()==0 and not pos.is_white_to_move()\n",
    "        if is_white or is_black:\n",
    "            hk = hash_key(pos)\n",
    "            if hk not in hh:\n",
    "                posID = convertPosToID(pos)\n",
    "                posIDs.append(posID)\n",
    "                \n",
    "                evals.append(eval_position(pos))\n",
    "                hashs.append(hk)\n",
    "        pos = pos.succ(move)\n",
    "    return posIDs, evals, hashs"
   ]
  },
  {
   "cell_type": "code",
   "execution_count": null,
   "id": "ddc30369",
   "metadata": {},
   "outputs": [],
   "source": [
    "def get_pos2(moves, hh):\n",
    "    posIDs = []\n",
    "    evals = []\n",
    "    hashs = []\n",
    "    pos = start_position()\n",
    "    for move in moves:\n",
    "        if pos.white_man_count()==3 and pos.black_man_count()==3 and pos.white_king_count()==0 and pos.black_king_count()==0:\n",
    "            hk = hash_key(pos)\n",
    "            if hk not in hh:\n",
    "                posID = pos_to_numpy1(pos)\n",
    "                posIDs.append(posID)\n",
    "                \n",
    "                evals.append(eval_position(pos))\n",
    "                hashs.append(hk)\n",
    "        pos = pos.succ(move)\n",
    "    return posIDs, evals, hashs"
   ]
  },
  {
   "cell_type": "code",
   "execution_count": null,
   "id": "f57ec8fa",
   "metadata": {},
   "outputs": [],
   "source": [
    "for game in games1:\n",
    "    print(game.event)"
   ]
  },
  {
   "cell_type": "code",
   "execution_count": null,
   "id": "c65fe271",
   "metadata": {},
   "outputs": [],
   "source": [
    "games1"
   ]
  },
  {
   "cell_type": "code",
   "execution_count": null,
   "id": "4cd2487f",
   "metadata": {},
   "outputs": [],
   "source": [
    "posIDs = []\n",
    "evals = []\n",
    "hashs = []\n",
    "for game in games1:\n",
    "    p,e,h  = get_pos2(game.moves,hashs)\n",
    "    posIDs += p\n",
    "    evals += e\n",
    "    hashs += h"
   ]
  },
  {
   "cell_type": "code",
   "execution_count": null,
   "id": "d3335423",
   "metadata": {},
   "outputs": [],
   "source": [
    "len(hashs)"
   ]
  },
  {
   "cell_type": "code",
   "execution_count": null,
   "id": "0a5dbd76",
   "metadata": {},
   "outputs": [],
   "source": [
    "np.save(\"posIDs\",posIDs)\n",
    "np.save(\"evals\",evals)\n",
    "np.save(\"hashs\",hashs)"
   ]
  },
  {
   "cell_type": "code",
   "execution_count": null,
   "id": "c16122b2",
   "metadata": {},
   "outputs": [],
   "source": [
    "posIDs = np.load(\"posIDs.npy\")"
   ]
  },
  {
   "cell_type": "code",
   "execution_count": null,
   "id": "0e61f8c0",
   "metadata": {},
   "outputs": [],
   "source": [
    "posIDs = np.array(posIDs)\n",
    "evals = np.array(evals)"
   ]
  },
  {
   "cell_type": "code",
   "execution_count": null,
   "id": "b4dd543b",
   "metadata": {},
   "outputs": [],
   "source": [
    "posIDs.shape"
   ]
  },
  {
   "cell_type": "code",
   "execution_count": null,
   "id": "53e73213",
   "metadata": {},
   "outputs": [],
   "source": [
    "posIDs = np.load(\"posIDs.npy\")\n",
    "evals = np.load(\"evals.npy\")\n",
    "hashs = np.load(\"hashs.npy\")"
   ]
  },
  {
   "cell_type": "code",
   "execution_count": null,
   "id": "d5b6da13",
   "metadata": {},
   "outputs": [],
   "source": []
  },
  {
   "cell_type": "code",
   "execution_count": null,
   "id": "1cf9b11c",
   "metadata": {},
   "outputs": [],
   "source": [
    "start_time = time()\n",
    "Scan.set(\"bb-size\", \"5\")\n",
    "Scan.update()\n",
    "\n",
    "X5 = []\n",
    "y5 = []\n",
    "n_out = [0,0,0,0]\n",
    "enumerator = EGDBEnumerator(3, 2, 0, 0)\n",
    "\n",
    "prev_pos = start_position()\n",
    "flag = False\n",
    "\n",
    "while enumerator.next():\n",
    "    pos = enumerator.position()\n",
    "    if flag and hash_key(pos) not in hashs:\n",
    "        flag = False\n",
    "        X5.append(convertPosToID(pos))\n",
    "        y5.append(eval_position(pos))\n",
    "    if hash_key(pos) in hashs:\n",
    "        X5.append(convertPosToID(prev_pos))\n",
    "        y5.append(eval_position(prev_pos))\n",
    "        flag = True\n",
    "    prev_pos = pos\n",
    "\n",
    "X5 = np.array(X5)\n",
    "y5 = np.array(y5)\n",
    "\n",
    "print(time() - start_time)\n",
    "print(n_out)"
   ]
  },
  {
   "cell_type": "code",
   "execution_count": null,
   "id": "d391859e",
   "metadata": {},
   "outputs": [],
   "source": [
    "X5.shape"
   ]
  },
  {
   "cell_type": "code",
   "execution_count": null,
   "id": "08f60f04",
   "metadata": {},
   "outputs": [],
   "source": [
    "posIDs[0]"
   ]
  },
  {
   "cell_type": "code",
   "execution_count": null,
   "id": "12fb6ab4",
   "metadata": {},
   "outputs": [],
   "source": [
    "X5[0]"
   ]
  },
  {
   "cell_type": "code",
   "execution_count": null,
   "id": "949591e3",
   "metadata": {},
   "outputs": [],
   "source": []
  },
  {
   "cell_type": "code",
   "execution_count": null,
   "id": "abd193fb",
   "metadata": {},
   "outputs": [],
   "source": [
    "start_time = time()\n",
    "Scan.set(\"bb-size\", \"5\")\n",
    "Scan.update()\n",
    "\n",
    "enumerator = EGDBEnumerator(3, 2, 0, 0)\n",
    "\n",
    "cID = []\n",
    "count = 0\n",
    "while enumerator.next():\n",
    "    pos = enumerator.position()\n",
    "    if hash_key(pos) in hashs:\n",
    "        cID.append(count)\n",
    "    count+=1\n",
    "        \n",
    "\n",
    "print(time() - start_time)"
   ]
  },
  {
   "cell_type": "code",
   "execution_count": null,
   "id": "998f6fb3",
   "metadata": {},
   "outputs": [],
   "source": [
    "len(cID)"
   ]
  },
  {
   "cell_type": "code",
   "execution_count": null,
   "id": "9ca7be17",
   "metadata": {},
   "outputs": [],
   "source": [
    "np.save(\"cID\",cID)"
   ]
  },
  {
   "cell_type": "code",
   "execution_count": null,
   "id": "3573948a",
   "metadata": {},
   "outputs": [],
   "source": [
    "\n",
    "cID = np.load(\"cID.npy\")"
   ]
  },
  {
   "cell_type": "code",
   "execution_count": null,
   "id": "e8770751",
   "metadata": {},
   "outputs": [],
   "source": [
    "cID = np.sort(cID)\n",
    "cID"
   ]
  },
  {
   "cell_type": "code",
   "execution_count": null,
   "id": "87d4d2ff",
   "metadata": {},
   "outputs": [],
   "source": [
    "def scan_search1(pos, max_depth, max_time):\n",
    "    Scan.set(\"bb-size\", \"4\")\n",
    "    Scan.update()\n",
    "    si = SearchInput()\n",
    "    si.move = True\n",
    "    si.book = False\n",
    "    si.depth = max_depth\n",
    "    si.nodes = 1000000000000\n",
    "    si.time = max_time\n",
    "    si.input = True\n",
    "    \n",
    "    so = SearchOutput()\n",
    "    node = make_node(pos)\n",
    "    \n",
    "    search(so, node, si)\n",
    "        \n",
    "    return so.score, so.move"
   ]
  },
  {
   "cell_type": "code",
   "execution_count": null,
   "id": "3a55e323",
   "metadata": {},
   "outputs": [],
   "source": [
    "errID[-5:]"
   ]
  },
  {
   "cell_type": "code",
   "execution_count": null,
   "id": "59d5ad7d",
   "metadata": {},
   "outputs": [],
   "source": [
    "count"
   ]
  },
  {
   "cell_type": "code",
   "execution_count": null,
   "id": "c1920822",
   "metadata": {
    "scrolled": true
   },
   "outputs": [],
   "source": [
    "Scan.set(\"bb-size\", \"5\")\n",
    "Scan.update()\n",
    "\n",
    "enumerator = EGDBEnumerator(3, 2, 0, 0)\n",
    "\n",
    "count = 0\n",
    "closestID = 0\n",
    "\n",
    "errPos = []\n",
    "errProbe = []\n",
    "\n",
    "while enumerator.next():\n",
    "    if count%1000==0:\n",
    "        print(int(count/1000),end=' ')\n",
    "    if errID[closestID]==count:\n",
    "        print(closestID, end=' ')\n",
    "        pos = enumerator.position()\n",
    "        errPos.append(pos)\n",
    "        errProbe.append(EGDB.probe(pos))\n",
    "        closestID += 1\n",
    "    elif count>errID[closestID]+bound:\n",
    "        closestID += 1\n",
    "    count += 1\n",
    "    if closestID>=len(errID):\n",
    "        print('sada ', closestID)\n",
    "        break"
   ]
  },
  {
   "cell_type": "code",
   "execution_count": null,
   "id": "7df982eb",
   "metadata": {},
   "outputs": [],
   "source": [
    "len(errID)"
   ]
  },
  {
   "cell_type": "code",
   "execution_count": null,
   "id": "4580227e",
   "metadata": {},
   "outputs": [],
   "source": [
    "len(errProbe)"
   ]
  },
  {
   "cell_type": "code",
   "execution_count": null,
   "id": "27e4fef2",
   "metadata": {},
   "outputs": [],
   "source": [
    "import random\n",
    "\n",
    "print(random.randint(0,1))"
   ]
  },
  {
   "cell_type": "code",
   "execution_count": null,
   "id": "d3160beb",
   "metadata": {},
   "outputs": [],
   "source": []
  },
  {
   "cell_type": "code",
   "execution_count": null,
   "id": "b2414dd2",
   "metadata": {},
   "outputs": [],
   "source": [
    "bound = 200\n",
    "\n",
    "start_time = time()\n",
    "# X5 = []\n",
    "y5_score = []\n",
    "# y5_true = []\n",
    "enumerator = EGDBEnumerator(3, 2, 0, 0)\n",
    "# n_out = [0,0,0,0]\n",
    "\n",
    "count = 0\n",
    "closestID = 0\n",
    "# convert_time = 0\n",
    "# eval_time = 0\n",
    "# pos_time = 0\n",
    "# other_time = 0\n",
    "# if_time = 0\n",
    "cc = 0\n",
    "\n",
    "while enumerator.next():\n",
    "    if count%1000==0:\n",
    "        print(int(count/1000),end=' ')\n",
    "#     other_time += time() - start_time\n",
    "#     start_time = time()\n",
    "    if cID[closestID]-bound<=count and cID[closestID]+bound>=count:\n",
    "        cc += 1\n",
    "#         if_time += time() - start_time\n",
    "#         start_time = time()\n",
    "        pos = enumerator.position()\n",
    "#         pos_time += time() - start_time\n",
    "#         start_time = time()\n",
    "#         X5.append(pos_to_numpy1(pos))\n",
    "#         convert_time += time() - start_time\n",
    "#         start_time = time()\n",
    "        score, _ = scan_search1(play_forced_moves(pos),5,5)\n",
    "        y5_score.append(score)\n",
    "#         Scan.set(\"bb-size\", \"5\")\n",
    "#         Scan.update()\n",
    "#         probe_out = EGDB.probe(pos)\n",
    "#         output = np.zeros(4)\n",
    "#         output[probe_out] = 1\n",
    "#         y5_true.append(output)\n",
    "#         eval_time += time() - start_time\n",
    "#         start_time = time()\n",
    "    elif count>cID[closestID]+bound:\n",
    "        closestID += 1\n",
    "#         if_time += time() - start_time\n",
    "#         start_time = time()\n",
    "#     else:\n",
    "#         if_time += time() - start_time\n",
    "#         start_time = time()\n",
    "        \n",
    "    count+=1\n",
    "    if closestID>=len(cID):\n",
    "        break\n",
    "\n",
    "# X5 = np.array(X5)\n",
    "# y5_score = np.array(y5_score)\n",
    "# y5_true = np.array(y5_true)\n",
    "\n",
    "print(time() - start_time)\n",
    "# print(n_out)"
   ]
  },
  {
   "cell_type": "code",
   "execution_count": null,
   "id": "2028cecb",
   "metadata": {},
   "outputs": [],
   "source": [
    "len(X5)"
   ]
  },
  {
   "cell_type": "code",
   "execution_count": null,
   "id": "8eb09cbf",
   "metadata": {},
   "outputs": [],
   "source": [
    "len(y5_score)"
   ]
  },
  {
   "cell_type": "code",
   "execution_count": null,
   "id": "07f660da",
   "metadata": {},
   "outputs": [],
   "source": [
    "y5g_true"
   ]
  },
  {
   "cell_type": "code",
   "execution_count": null,
   "id": "1bd906fc",
   "metadata": {
    "scrolled": true
   },
   "outputs": [],
   "source": [
    "y5_score[:10]"
   ]
  },
  {
   "cell_type": "code",
   "execution_count": null,
   "id": "a2a61715",
   "metadata": {},
   "outputs": [],
   "source": [
    "y5_score1[:10]"
   ]
  },
  {
   "cell_type": "code",
   "execution_count": null,
   "id": "c5e088ad",
   "metadata": {},
   "outputs": [],
   "source": [
    "y5_score2[:10]"
   ]
  },
  {
   "cell_type": "code",
   "execution_count": null,
   "id": "96d5d5ac",
   "metadata": {
    "scrolled": true
   },
   "outputs": [],
   "source": [
    "len(y5_score2)"
   ]
  },
  {
   "cell_type": "code",
   "execution_count": null,
   "id": "2ca4016a",
   "metadata": {},
   "outputs": [],
   "source": [
    "len(y5_true)"
   ]
  },
  {
   "cell_type": "code",
   "execution_count": null,
   "id": "7060ee57",
   "metadata": {},
   "outputs": [],
   "source": [
    "len(X5)"
   ]
  },
  {
   "cell_type": "code",
   "execution_count": null,
   "id": "d4995f4c",
   "metadata": {},
   "outputs": [],
   "source": [
    "np.save(\"y5_score_xxs\",y5_score)\n",
    "np.save(\"y5_true_xxs\",y5_true)\n",
    "np.save(\"X5_xxs\",X5)"
   ]
  },
  {
   "cell_type": "code",
   "execution_count": null,
   "id": "310d5ca8",
   "metadata": {},
   "outputs": [],
   "source": [
    "y5_score_prev = np.load(\"y5_score.npy\")"
   ]
  },
  {
   "cell_type": "code",
   "execution_count": null,
   "id": "a55ff5c3",
   "metadata": {},
   "outputs": [],
   "source": [
    "len(y5_score_prev)"
   ]
  },
  {
   "cell_type": "code",
   "execution_count": null,
   "id": "16a49530",
   "metadata": {},
   "outputs": [],
   "source": [
    "y5_score"
   ]
  },
  {
   "cell_type": "code",
   "execution_count": null,
   "id": "de1542cf",
   "metadata": {
    "scrolled": true
   },
   "outputs": [],
   "source": [
    "y5_score_prev"
   ]
  },
  {
   "cell_type": "code",
   "execution_count": null,
   "id": "b412d6d0",
   "metadata": {},
   "outputs": [],
   "source": [
    "Scan.set(\"bb-size\", \"5\")\n",
    "Scan.update()\n",
    "\n",
    "bound = 200\n",
    "\n",
    "start_time = time()\n",
    "# X5 = []\n",
    "# y5_score = []\n",
    "# y5_true = []\n",
    "enumerator = EGDBEnumerator(3, 2, 0, 0)\n",
    "# n_out = [0,0,0,0]\n",
    "\n",
    "count = 0\n",
    "closestID = 0\n",
    "# convert_time = 0\n",
    "# eval_time = 0\n",
    "# pos_time = 0\n",
    "# other_time = 0\n",
    "# if_time = 0\n",
    "# captureID = []\n",
    "# noncapID = []\n",
    "\n",
    "# threatID = []\n",
    "# threatP = []\n",
    "# nonthreatID = []\n",
    "\n",
    "errID = []\n",
    "# errID_probe = []\n",
    "# nonerrID = []\n",
    "cy = 0\n",
    "\n",
    "while enumerator.next():\n",
    "    if count%1000==0:\n",
    "        print(int(count/1000),end=' ')\n",
    "#     other_time += time() - start_time\n",
    "#     start_time = time()\n",
    "    if cID[closestID]-bound<=count and cID[closestID]+bound>=count:\n",
    "#         if_time += time() - start_time\n",
    "#         start_time = time()\n",
    "        pos = enumerator.position()\n",
    "#         score, _ = scan_search(pos,15,5)\n",
    "        if y5_score[cy]==-10001:\n",
    "            errID.append(count)\n",
    "#             errID_probe.append(EGDB.probe(pos))\n",
    "#         else:\n",
    "#             nonerrID.append(count)\n",
    "        cy += 1\n",
    "#         if pos.is_capture():\n",
    "#             captureID.append(count)\n",
    "#         else:\n",
    "#             noncapID.append(count)\n",
    "#         if pos.is_threat():\n",
    "#             threatID.append(count)\n",
    "#             threatP.append(EGDB.probe(pos))\n",
    "#         else:\n",
    "#             nonthreatID.append(count)\n",
    "#         pos_time += time() - start_time\n",
    "#         start_time = time()\n",
    "#         X5.append(convertPosToID(pos))\n",
    "#         convert_time += time() - start_time\n",
    "#         start_time = time()\n",
    "#         score, _ = scan_search(pos,15,5)\n",
    "#         y5_score.append(score)\n",
    "#         probe_out = EGDB.probe(pos)\n",
    "#         output = np.zeros(4)\n",
    "#         output[probe_out] = 1\n",
    "#         n_out[probe_out] += 1\n",
    "#         y5_true.append(output)\n",
    "#         eval_time += time() - start_time\n",
    "#         start_time = time()\n",
    "    elif count>cID[closestID]+bound:\n",
    "        closestID += 1\n",
    "#         if_time += time() - start_time\n",
    "#         start_time = time()\n",
    "#     else:\n",
    "#         if_time += time() - start_time\n",
    "#         start_time = time()\n",
    "        \n",
    "    count+=1\n",
    "    if closestID>=len(cID):\n",
    "        break\n",
    "\n",
    "# X5 = np.array(X5)\n",
    "# y5_score = np.array(y5_score)\n",
    "# y5_true = np.array(y5_true)\n",
    "\n",
    "print(time() - start_time)\n",
    "# print(n_out)"
   ]
  },
  {
   "cell_type": "code",
   "execution_count": null,
   "id": "e16f7bb7",
   "metadata": {},
   "outputs": [],
   "source": [
    "len(errID_probe)"
   ]
  },
  {
   "cell_type": "code",
   "execution_count": null,
   "id": "1f7b23f2",
   "metadata": {},
   "outputs": [],
   "source": [
    "np.unique(np.array(errID_probe),return_counts=True)"
   ]
  },
  {
   "cell_type": "code",
   "execution_count": null,
   "id": "c6b29a32",
   "metadata": {},
   "outputs": [],
   "source": [
    "len(captureID)"
   ]
  },
  {
   "cell_type": "code",
   "execution_count": null,
   "id": "93e0c4e2",
   "metadata": {},
   "outputs": [],
   "source": [
    "len(noncapID)"
   ]
  },
  {
   "cell_type": "code",
   "execution_count": null,
   "id": "4a67f582",
   "metadata": {},
   "outputs": [],
   "source": [
    "len(threatID)"
   ]
  },
  {
   "cell_type": "code",
   "execution_count": null,
   "id": "dcfbcfd9",
   "metadata": {},
   "outputs": [],
   "source": [
    "np.unique(np.array(threatP),return_counts=True)"
   ]
  },
  {
   "cell_type": "code",
   "execution_count": null,
   "id": "69505df6",
   "metadata": {},
   "outputs": [],
   "source": [
    "[pos_time,convert_time,eval_time,if_time,other_time]"
   ]
  },
  {
   "cell_type": "code",
   "execution_count": null,
   "id": "02627148",
   "metadata": {},
   "outputs": [],
   "source": [
    "len(X5)"
   ]
  },
  {
   "cell_type": "code",
   "execution_count": null,
   "id": "157905cd",
   "metadata": {},
   "outputs": [],
   "source": [
    "len(y5_true)"
   ]
  },
  {
   "cell_type": "code",
   "execution_count": null,
   "id": "c3d718da",
   "metadata": {},
   "outputs": [],
   "source": [
    "np.unique(y5)"
   ]
  },
  {
   "cell_type": "code",
   "execution_count": null,
   "id": "d43f566e",
   "metadata": {},
   "outputs": [],
   "source": [
    "# X5g = X5.reshape(len(X5),4,10,10)\n",
    "y5g = []\n",
    "n_out = [0,0,0,0]\n",
    "for i in y5:\n",
    "    if i<-139:\n",
    "        n_out[1] += 1\n",
    "        y5g.append([0,1,0,0])\n",
    "    elif i>139:\n",
    "        n_out[2] += 1\n",
    "        y5g.append([0,0,1,0])\n",
    "    else:\n",
    "        n_out[0] += 1\n",
    "        y5g.append([1,0,0,0])\n",
    "n_out"
   ]
  },
  {
   "cell_type": "code",
   "execution_count": null,
   "id": "53a9c6e1",
   "metadata": {},
   "outputs": [],
   "source": [
    "y5g = np.array(y5g)"
   ]
  },
  {
   "cell_type": "code",
   "execution_count": null,
   "id": "14b3eed4",
   "metadata": {},
   "outputs": [],
   "source": [
    "X5g.shape"
   ]
  },
  {
   "cell_type": "code",
   "execution_count": null,
   "id": "0ec2acc8",
   "metadata": {},
   "outputs": [],
   "source": [
    "# np.save(\"X5g2\",X5g)\n",
    "np.save(\"y5g2\",y5g)"
   ]
  },
  {
   "cell_type": "code",
   "execution_count": null,
   "id": "cb5f30d1",
   "metadata": {},
   "outputs": [],
   "source": [
    "np.save(\"y5g_true\",y5_true)"
   ]
  },
  {
   "cell_type": "code",
   "execution_count": null,
   "id": "01daceec",
   "metadata": {},
   "outputs": [],
   "source": [
    "np.save(\"y5_score\",y5_score)"
   ]
  },
  {
   "cell_type": "code",
   "execution_count": null,
   "id": "d73b0205",
   "metadata": {},
   "outputs": [],
   "source": [
    "y5g.shape"
   ]
  },
  {
   "cell_type": "code",
   "execution_count": null,
   "id": "7c2b132b",
   "metadata": {},
   "outputs": [],
   "source": [
    "\n",
    "X5g = np.load(\"X5g.npy\")\n",
    "# y5g = np.load(\"y5g.npy\")\n",
    "# y5g2 = np.load(\"y5g2.npy\")\n",
    "# y5_score = np.load(\"y5_score.npy\")"
   ]
  },
  {
   "cell_type": "code",
   "execution_count": null,
   "id": "e6826451",
   "metadata": {},
   "outputs": [],
   "source": [
    "errID2 = np.load(\"errID.npy\")"
   ]
  },
  {
   "cell_type": "code",
   "execution_count": null,
   "id": "fe0d2363",
   "metadata": {},
   "outputs": [],
   "source": [
    "errID"
   ]
  },
  {
   "cell_type": "code",
   "execution_count": null,
   "id": "2324ea17",
   "metadata": {},
   "outputs": [],
   "source": [
    "errID2[:20]"
   ]
  },
  {
   "cell_type": "code",
   "execution_count": null,
   "id": "8cb0beaa",
   "metadata": {},
   "outputs": [],
   "source": [
    "X5g.shape"
   ]
  },
  {
   "cell_type": "code",
   "execution_count": null,
   "id": "e18d5b70",
   "metadata": {},
   "outputs": [],
   "source": [
    "y5_true"
   ]
  },
  {
   "cell_type": "code",
   "execution_count": null,
   "id": "a0ed65bf",
   "metadata": {},
   "outputs": [],
   "source": [
    "y5g_true = np.load(\"y5g_true.npy\")"
   ]
  },
  {
   "cell_type": "code",
   "execution_count": null,
   "id": "3b0f8a32",
   "metadata": {},
   "outputs": [],
   "source": [
    "len(X5)"
   ]
  },
  {
   "cell_type": "code",
   "execution_count": null,
   "id": "329c5ee2",
   "metadata": {},
   "outputs": [],
   "source": [
    "y5g_true.shape"
   ]
  },
  {
   "cell_type": "code",
   "execution_count": null,
   "id": "c78755a3",
   "metadata": {},
   "outputs": [],
   "source": [
    "X5n = []\n",
    "y5n_true = []\n",
    "closestID = 0\n",
    "a = 0\n",
    "\n",
    "enumerator = EGDBEnumerator(3, 2, 0, 0)\n",
    "while enumerator.next():\n",
    "    if a%1000==0:\n",
    "        print(int(a/1000),end=' ')\n",
    "    if a == nonerrID[closestID]:\n",
    "        pos = enumerator.position()\n",
    "        X5n.append(convertPosToID(pos))\n",
    "        probe_out = EGDB.probe(pos)\n",
    "        output = np.zeros(4)\n",
    "        output[probe_out] = 1\n",
    "        y5n_true.append(output)\n",
    "        a += 1\n",
    "        closestID += 1\n",
    "    elif a>nonerrID[closestID]:\n",
    "        closestID += 1\n",
    "    else:\n",
    "        a += 1\n",
    "    if closestID>=len(nonerrID):\n",
    "        print(closestID)\n",
    "        break"
   ]
  },
  {
   "cell_type": "code",
   "execution_count": null,
   "id": "5dc990d1",
   "metadata": {},
   "outputs": [],
   "source": [
    "len(errID_probe)"
   ]
  },
  {
   "cell_type": "code",
   "execution_count": null,
   "id": "3ff5e2b6",
   "metadata": {},
   "outputs": [],
   "source": [
    "len(nonerrID)"
   ]
  },
  {
   "cell_type": "code",
   "execution_count": null,
   "id": "4bd13747",
   "metadata": {},
   "outputs": [],
   "source": [
    "len(X5n)"
   ]
  },
  {
   "cell_type": "code",
   "execution_count": null,
   "id": "b7774fa9",
   "metadata": {},
   "outputs": [],
   "source": [
    "len(y5n)"
   ]
  },
  {
   "cell_type": "code",
   "execution_count": null,
   "id": "016bb950",
   "metadata": {},
   "outputs": [],
   "source": [
    "len(y5n_true)"
   ]
  },
  {
   "cell_type": "code",
   "execution_count": null,
   "id": "6acf562b",
   "metadata": {},
   "outputs": [],
   "source": [
    "X5n = np.array(X5n)\n",
    "y5n = np.array(y5n)\n",
    "y5n_true = np.array(y5n_true)"
   ]
  },
  {
   "cell_type": "code",
   "execution_count": null,
   "id": "6a5b6bb2",
   "metadata": {},
   "outputs": [],
   "source": [
    "X5n = np.load(\"X5n.npy\")\n",
    "y5n = np.load(\"y5n.npy\")\n",
    "y5n_true = np.load(\"y5n_true.npy\")"
   ]
  },
  {
   "cell_type": "code",
   "execution_count": null,
   "id": "00a509ec",
   "metadata": {},
   "outputs": [],
   "source": [
    "X5g.shape"
   ]
  },
  {
   "cell_type": "code",
   "execution_count": null,
   "id": "ee195d1f",
   "metadata": {},
   "outputs": [],
   "source": [
    "len(y5n)"
   ]
  },
  {
   "cell_type": "code",
   "execution_count": null,
   "id": "fe25b81e",
   "metadata": {},
   "outputs": [],
   "source": [
    "len(y5_true)"
   ]
  },
  {
   "cell_type": "code",
   "execution_count": null,
   "id": "a7d91c02",
   "metadata": {},
   "outputs": [],
   "source": [
    "np.save(\"y5g\",y5n)\n",
    "np.save(\"y5g_true\",y5_true)"
   ]
  },
  {
   "cell_type": "code",
   "execution_count": null,
   "id": "f4fa5ef7",
   "metadata": {},
   "outputs": [],
   "source": [
    "len(y5g_true)"
   ]
  },
  {
   "cell_type": "code",
   "execution_count": null,
   "id": "1ca38c21",
   "metadata": {},
   "outputs": [],
   "source": [
    "n_same = 0\n",
    "n_res = np.zeros([4,4])\n",
    "difPos = []\n",
    "\n",
    "for i in range(len(y5n)):\n",
    "    res = np.sum(y5n[i]*y5g_true[i])\n",
    "    if res!=1:\n",
    "        difPos.append(i)\n",
    "    n_same += res\n",
    "    n_res[list(y5n[i]).index(1)][list(y5g_true[i]).index(1)] += 1"
   ]
  },
  {
   "cell_type": "code",
   "execution_count": null,
   "id": "9a7ad087",
   "metadata": {},
   "outputs": [],
   "source": [
    "n_res"
   ]
  },
  {
   "cell_type": "code",
   "execution_count": null,
   "id": "330ecc23",
   "metadata": {},
   "outputs": [],
   "source": [
    "len(difPos)/len(y5n)"
   ]
  },
  {
   "cell_type": "code",
   "execution_count": null,
   "id": "9a61d389",
   "metadata": {},
   "outputs": [],
   "source": [
    "1-len(difPos)/len(y5n)"
   ]
  },
  {
   "cell_type": "code",
   "execution_count": null,
   "id": "806ea5d8",
   "metadata": {},
   "outputs": [],
   "source": [
    "n_same"
   ]
  },
  {
   "cell_type": "code",
   "execution_count": null,
   "id": "a401e9f4",
   "metadata": {},
   "outputs": [],
   "source": [
    "n_same/len(y5n)"
   ]
  },
  {
   "cell_type": "code",
   "execution_count": null,
   "id": "90122bf7",
   "metadata": {},
   "outputs": [],
   "source": [
    "y5n = []\n",
    "# errID = []\n",
    "count = [0,0,0,0]\n",
    "err_count = 0\n",
    "for a,i in enumerate(y5_score):\n",
    "    if i>=-100 and i<=100:\n",
    "        count[0] += 1\n",
    "        y5n.append([1,0,0,0])\n",
    "    elif i>100:\n",
    "        count[2] += 1\n",
    "        y5n.append([0,0,1,0])\n",
    "    else:\n",
    "        count[1] += 1\n",
    "        y5n.append([0,1,0,0])\n",
    "    if i==-10001:\n",
    "        err_count +=1\n",
    "        \n",
    "count"
   ]
  },
  {
   "cell_type": "code",
   "execution_count": null,
   "id": "fee26400",
   "metadata": {},
   "outputs": [],
   "source": [
    "np.save(\"y5n_xxs\",y5n)"
   ]
  },
  {
   "cell_type": "code",
   "execution_count": null,
   "id": "f4afdae0",
   "metadata": {},
   "outputs": [],
   "source": [
    "np.save(\"X5n\",X5n)\n",
    "np.save(\"y5n\",y5n)\n",
    "np.save(\"nonerrID\",nonerrID)\n",
    "np.save(\"y5n_true\",y5n_true)\n",
    "np.save(\"errID\",errID)\n",
    "np.save(\"errID_probe\",errID_probe)"
   ]
  },
  {
   "cell_type": "code",
   "execution_count": null,
   "id": "2a9d26ac",
   "metadata": {},
   "outputs": [],
   "source": [
    "closestID = 0\n",
    "a = 0\n",
    "errPos = []\n",
    "\n",
    "enumerator = EGDBEnumerator(3, 2, 0, 0)\n",
    "while enumerator.next():\n",
    "    if a%1000==0:\n",
    "        print(int(a/1000),end=' ')\n",
    "    if a == errID[closestID]:\n",
    "        pos = enumerator.position()\n",
    "        errPos.append(pos)\n",
    "        a += 1\n",
    "        closestID += 1\n",
    "    elif a>errID[closestID]:\n",
    "        closestID += 1\n",
    "    else:\n",
    "        a += 1\n",
    "    if closestID>=len(errID):\n",
    "        print(closestID)\n",
    "        break"
   ]
  },
  {
   "cell_type": "code",
   "execution_count": null,
   "id": "7b007a3c",
   "metadata": {},
   "outputs": [],
   "source": [
    "display_position(errPos[0])"
   ]
  },
  {
   "cell_type": "code",
   "execution_count": null,
   "id": "01612a15",
   "metadata": {},
   "outputs": [],
   "source": []
  },
  {
   "cell_type": "code",
   "execution_count": null,
   "id": "96d8d839",
   "metadata": {},
   "outputs": [],
   "source": [
    "closestID = 0\n",
    "a = 0\n",
    "\n",
    "enumerator = EGDBEnumerator(3, 2, 0, 0)\n",
    "while enumerator.next():\n",
    "    if a%1000==0:\n",
    "        print(int(a/1000),end=' ')\n",
    "    if a == nonerrID[closestID]:\n",
    "        a += 1\n",
    "        closestID += 1\n",
    "    elif a>nonerrID[closestID]:\n",
    "        closestID += 1\n",
    "    else:\n",
    "        a += 1\n",
    "    if closestID>=len(nonerrID):\n",
    "        print(closestID)\n",
    "        break"
   ]
  },
  {
   "cell_type": "code",
   "execution_count": null,
   "id": "0a78acbb",
   "metadata": {},
   "outputs": [],
   "source": []
  },
  {
   "cell_type": "code",
   "execution_count": null,
   "id": "1edc39ab",
   "metadata": {},
   "outputs": [],
   "source": [
    "def create_model_cnn1():\n",
    "    model = Sequential()\n",
    "    model.add(Input(shape=(4, 10, 10)))\n",
    "    model.add(Conv2D(64, 5, padding=\"same\", activation=\"relu\"))\n",
    "    model.add(Conv2D(64, 5, padding=\"same\", activation=\"relu\"))\n",
    "    model.add(Conv2D(128, 4, padding=\"same\", activation=\"relu\"))\n",
    "    model.add(Conv2D(128, 4, padding=\"same\", activation=\"relu\"))\n",
    "    model.add(MaxPooling2D(2))\n",
    "    model.add(Conv2D(128, 3, padding=\"same\", activation=\"relu\"))\n",
    "    model.add(Conv2D(128, 3, padding=\"same\", activation=\"relu\"))\n",
    "    model.add(BatchNormalization())\n",
    "    model.add(MaxPooling2D(2))\n",
    "    model.add(Flatten())\n",
    "    model.add(Dense(1024, activation='relu'))\n",
    "    model.add(Dense(512, activation='relu'))\n",
    "    model.add(Dense(4, activation='softmax'))\n",
    "\n",
    "    model.compile(loss='categorical_crossentropy', optimizer='adam', metrics=['accuracy'])\n",
    "    model.summary()\n",
    "    \n",
    "    return model"
   ]
  },
  {
   "cell_type": "code",
   "execution_count": null,
   "id": "9f275813",
   "metadata": {},
   "outputs": [],
   "source": [
    "def create_model_cnn2():\n",
    "    model = Sequential()\n",
    "    model.add(Input(shape=(4, 10, 10)))\n",
    "    model.add(Conv2D(256, 4, padding=\"same\", activation=\"relu\"))\n",
    "    model.add(Conv2D(256, 4, padding=\"same\", activation=\"relu\"))\n",
    "    model.add(MaxPooling2D(2))\n",
    "    model.add(Conv2D(256, 3, padding=\"same\", activation=\"relu\"))\n",
    "    model.add(BatchNormalization())\n",
    "    model.add(MaxPooling2D(2))\n",
    "    model.add(Flatten())\n",
    "    model.add(Dense(1024, activation='relu'))\n",
    "    model.add(Dense(512, activation='relu'))\n",
    "    model.add(Dense(4, activation='softmax'))\n",
    "\n",
    "    model.compile(loss='categorical_crossentropy', optimizer='adam', metrics=['accuracy'])\n",
    "    model.summary()\n",
    "    \n",
    "    return model"
   ]
  },
  {
   "cell_type": "code",
   "execution_count": null,
   "id": "f53ebc1a",
   "metadata": {},
   "outputs": [],
   "source": [
    "def get_f1(y_true, y_pred): #taken from old keras source code\n",
    "    true_positives = K.sum(K.round(K.clip(y_true * y_pred, 0, 1)))\n",
    "    possible_positives = K.sum(K.round(K.clip(y_true, 0, 1)))\n",
    "    predicted_positives = K.sum(K.round(K.clip(y_pred, 0, 1)))\n",
    "    precision = true_positives / (predicted_positives + K.epsilon())\n",
    "    recall = true_positives / (possible_positives + K.epsilon())\n",
    "    f1_val = 2*(precision*recall)/(precision+recall+K.epsilon())\n",
    "    return f1_val"
   ]
  },
  {
   "cell_type": "code",
   "execution_count": null,
   "id": "758af1f4",
   "metadata": {},
   "outputs": [],
   "source": [
    "model4_X5_f2_xs = create_model_cnn2()"
   ]
  },
  {
   "cell_type": "code",
   "execution_count": null,
   "id": "8a33021e",
   "metadata": {},
   "outputs": [],
   "source": [
    "X5 = np.array(X5).reshape((len(X5), 4, 10, 10))\n"
   ]
  },
  {
   "cell_type": "code",
   "execution_count": null,
   "id": "5f54a994",
   "metadata": {},
   "outputs": [],
   "source": [
    "X5.shape"
   ]
  },
  {
   "cell_type": "code",
   "execution_count": null,
   "id": "69e048bc",
   "metadata": {},
   "outputs": [],
   "source": [
    "y5n = np.array(y5n)"
   ]
  },
  {
   "cell_type": "code",
   "execution_count": null,
   "id": "466c17da",
   "metadata": {},
   "outputs": [],
   "source": [
    "y5n.shape"
   ]
  },
  {
   "cell_type": "code",
   "execution_count": null,
   "id": "9d8b4763",
   "metadata": {},
   "outputs": [],
   "source": [
    "np.save(\"y5n_xs\",y5n)"
   ]
  },
  {
   "cell_type": "code",
   "execution_count": null,
   "id": "152b3ad6",
   "metadata": {},
   "outputs": [],
   "source": [
    "X5xs = np.load(\"X5_xs.npy\")\n",
    "y5xs = np.load(\"y5n_xs.npy\")"
   ]
  },
  {
   "cell_type": "code",
   "execution_count": null,
   "id": "f6cd946f",
   "metadata": {},
   "outputs": [],
   "source": [
    "X5 = np.load(\"X5_xxs.npy\")\n",
    "y5n = np.load(\"y5n_xxs.npy\")"
   ]
  },
  {
   "cell_type": "code",
   "execution_count": null,
   "id": "aacc7aab",
   "metadata": {},
   "outputs": [],
   "source": [
    "model3_X5_f1_xs.fit(X5, y5n, epochs=200, batch_size=256) "
   ]
  },
  {
   "cell_type": "code",
   "execution_count": null,
   "id": "5006a30e",
   "metadata": {},
   "outputs": [],
   "source": [
    "model3_X5_f1_xs.save('model3_X5_f1_xs.h5')"
   ]
  },
  {
   "cell_type": "code",
   "execution_count": null,
   "id": "5f83981c",
   "metadata": {},
   "outputs": [],
   "source": [
    "# y5g after load\n",
    "model3_X5_f1.fit(X5g, y5n, epochs=200, batch_size=256) "
   ]
  },
  {
   "cell_type": "code",
   "execution_count": null,
   "id": "7659cc22",
   "metadata": {},
   "outputs": [],
   "source": [
    "model3_X5_f1.save('model3_X5_f1.h5')"
   ]
  },
  {
   "cell_type": "code",
   "execution_count": null,
   "id": "194fd564",
   "metadata": {},
   "outputs": [],
   "source": []
  },
  {
   "cell_type": "code",
   "execution_count": null,
   "id": "36eaed19",
   "metadata": {},
   "outputs": [],
   "source": [
    "model2_X5_f3 = load_model(\"model2_X5_f3.h5\", custom_objects={\"get_f1\": get_f1 })"
   ]
  },
  {
   "cell_type": "code",
   "execution_count": null,
   "id": "ecb06b69",
   "metadata": {},
   "outputs": [],
   "source": []
  },
  {
   "cell_type": "code",
   "execution_count": null,
   "id": "e0e2d7dd",
   "metadata": {},
   "outputs": [],
   "source": [
    "model3_X5_f2 = load_model(\"model3_X5_f2.h5\")"
   ]
  },
  {
   "cell_type": "code",
   "execution_count": null,
   "id": "9369a61f",
   "metadata": {},
   "outputs": [],
   "source": [
    "history = model3_X5_f2.fit(X5g, y5g, epochs=100, batch_size=256) "
   ]
  },
  {
   "cell_type": "code",
   "execution_count": null,
   "id": "c43ff5e5",
   "metadata": {},
   "outputs": [],
   "source": [
    "model3_X5_f2.save('model3_X5_f2.h5')"
   ]
  },
  {
   "cell_type": "code",
   "execution_count": null,
   "id": "76bcac97",
   "metadata": {
    "scrolled": true
   },
   "outputs": [],
   "source": [
    "history.history"
   ]
  },
  {
   "cell_type": "code",
   "execution_count": null,
   "id": "2daf3e4c",
   "metadata": {},
   "outputs": [],
   "source": [
    "history = model3_X5_f2_xs.fit(X5xs, y5xs, epochs=100, batch_size=256) "
   ]
  },
  {
   "cell_type": "code",
   "execution_count": null,
   "id": "2b03461b",
   "metadata": {},
   "outputs": [],
   "source": [
    "model3_X5_f2_xs.save('model3_X5_f2_xs.h5')"
   ]
  },
  {
   "cell_type": "code",
   "execution_count": null,
   "id": "23c8f4c4",
   "metadata": {},
   "outputs": [],
   "source": [
    "np.save(\"hist2_acc\",history.history['accuracy'])\n",
    "np.save(\"hist2_loss\",history.history['loss'])\n"
   ]
  },
  {
   "cell_type": "code",
   "execution_count": null,
   "id": "e2bf0be0",
   "metadata": {},
   "outputs": [],
   "source": [
    "history = model3_X5_f2_xxs.fit(X5, y5n, epochs=100, batch_size=256) "
   ]
  },
  {
   "cell_type": "code",
   "execution_count": null,
   "id": "0c42e7a2",
   "metadata": {},
   "outputs": [],
   "source": [
    "model3_X5_f2_xxs.save('model3_X5_f2_xxs.h5')"
   ]
  },
  {
   "cell_type": "code",
   "execution_count": null,
   "id": "3a60ea22",
   "metadata": {},
   "outputs": [],
   "source": [
    "np.save(\"hist3_acc\",history.history['accuracy'])\n",
    "np.save(\"hist3_loss\",history.history['loss'])\n"
   ]
  },
  {
   "cell_type": "code",
   "execution_count": null,
   "id": "e9bb0372",
   "metadata": {},
   "outputs": [],
   "source": []
  },
  {
   "cell_type": "code",
   "execution_count": null,
   "id": "9cb2ea21",
   "metadata": {},
   "outputs": [],
   "source": [
    "history = model4_X5_f2_xs.fit(X5xs, y5xs, epochs=100, batch_size=256) "
   ]
  },
  {
   "cell_type": "code",
   "execution_count": null,
   "id": "43395e18",
   "metadata": {},
   "outputs": [],
   "source": [
    "model4_X5_f2_xs.save('model4_X5_f2_xs.h5')"
   ]
  },
  {
   "cell_type": "code",
   "execution_count": null,
   "id": "f4a665a9",
   "metadata": {},
   "outputs": [],
   "source": [
    "np.save(\"hist5_acc\",history.history['accuracy'])\n",
    "np.save(\"hist5_loss\",history.history['loss'])\n"
   ]
  },
  {
   "cell_type": "code",
   "execution_count": null,
   "id": "1b06ebd2",
   "metadata": {},
   "outputs": [],
   "source": []
  },
  {
   "cell_type": "code",
   "execution_count": null,
   "id": "b7cc083f",
   "metadata": {},
   "outputs": [],
   "source": []
  },
  {
   "cell_type": "code",
   "execution_count": null,
   "id": "5c1d347f",
   "metadata": {},
   "outputs": [],
   "source": [
    "hist2 = np.load(\"hist2_acc.npy\")\n",
    "hist3 = np.load(\"hist3_acc.npy\")\n",
    "hist4 = np.load(\"hist4_acc.npy\")\n",
    "hist5 = np.load(\"hist5_acc.npy\")"
   ]
  },
  {
   "cell_type": "code",
   "execution_count": null,
   "id": "18e8de92",
   "metadata": {},
   "outputs": [],
   "source": [
    "import matplotlib.pyplot as plt"
   ]
  },
  {
   "cell_type": "code",
   "execution_count": null,
   "id": "eba0ab14",
   "metadata": {},
   "outputs": [],
   "source": [
    "plt.figure(figsize=(8, 6), dpi=80)\n",
    "plt.plot(hist2)\n",
    "plt.plot(hist3)\n",
    "plt.plot(hist4)\n",
    "plt.plot(hist5)\n",
    "\n",
    "plt.title('model accuracy')\n",
    "plt.ylabel('accuracy')\n",
    "plt.xlabel('epoch')\n",
    "plt.legend(['train', 'test'], loc='upper left')\n",
    "plt.show()"
   ]
  },
  {
   "cell_type": "code",
   "execution_count": null,
   "id": "1301e8e8",
   "metadata": {},
   "outputs": [],
   "source": []
  },
  {
   "cell_type": "code",
   "execution_count": null,
   "id": "62e517d8",
   "metadata": {},
   "outputs": [],
   "source": []
  },
  {
   "cell_type": "code",
   "execution_count": null,
   "id": "722d3225",
   "metadata": {},
   "outputs": [],
   "source": [
    "history = model4_X5_f2_xxs.fit(X5, y5n, epochs=100, batch_size=256) "
   ]
  },
  {
   "cell_type": "code",
   "execution_count": null,
   "id": "28d14dc1",
   "metadata": {},
   "outputs": [],
   "source": [
    "model4_X5_f2_xxs.save('model4_X5_f2_xxs.h5')"
   ]
  },
  {
   "cell_type": "code",
   "execution_count": null,
   "id": "6e01d66c",
   "metadata": {},
   "outputs": [],
   "source": [
    "np.save(\"hist4_acc\",history.history['accuracy'])\n",
    "np.save(\"hist4_loss\",history.history['loss'])\n"
   ]
  },
  {
   "cell_type": "code",
   "execution_count": null,
   "id": "6fd686d9",
   "metadata": {},
   "outputs": [],
   "source": [
    "text = '''\n",
    "   .   .   .   .   . \n",
    " .   .   .   .   .   \n",
    "   .   .   x   x   . \n",
    " x   x   x   x   .   \n",
    "   x   .   x   x   o \n",
    " x   o   o   .   o   \n",
    "   .   o   o   .   o \n",
    " .   o   o   o   .   \n",
    "   .   .   .   .   . \n",
    " .   .   .   .   .   B;\n",
    "'''"
   ]
  },
  {
   "cell_type": "code",
   "execution_count": 2,
   "id": "d7342f22",
   "metadata": {},
   "outputs": [],
   "source": [
    "text = '''\n",
    "   x   x   .   .   . \n",
    " o   o   .   .   .   \n",
    "   .   .   .   .   . \n",
    " .   .   .   .   .   \n",
    "   .   .   .   .   . \n",
    " .   .   .   .   .   \n",
    "   .   .   .   .   . \n",
    " o   .   .   .   .   \n",
    "   .   .   .   .   . \n",
    " .   .   .   .   .   W;\n",
    "'''"
   ]
  },
  {
   "cell_type": "code",
   "execution_count": null,
   "id": "92320af7",
   "metadata": {},
   "outputs": [],
   "source": [
    "difPos[22222].reshape(4,10,10)[:2]"
   ]
  },
  {
   "cell_type": "code",
   "execution_count": null,
   "id": "a7b0ee6c",
   "metadata": {},
   "outputs": [],
   "source": []
  },
  {
   "cell_type": "code",
   "execution_count": 2,
   "id": "f7ea437a",
   "metadata": {},
   "outputs": [],
   "source": [
    "text = '''\n",
    "   x   x   x   x   x \n",
    " x   x   x   x   x   \n",
    "   x   x   x   .   x \n",
    " x   x   x   x   x   \n",
    "   o   .   x   .   . \n",
    " .   .   .   .   o   \n",
    "   .   o   o   .   o \n",
    " o   o   o   o   o   \n",
    "   o   o   o   o   o \n",
    " o   o   o   o   o   B;\n",
    "'''"
   ]
  },
  {
   "cell_type": "code",
   "execution_count": 78,
   "id": "765c06e1",
   "metadata": {},
   "outputs": [],
   "source": [
    "text = '''\n",
    "   o   o   o   o   o \n",
    " O   O   O   O   O   \n",
    "   .   .   .   .   . \n",
    " .   .   .   .   .   \n",
    "   .   .   .   .   . \n",
    " .   .   .   .   .   \n",
    "   .   .   .   .   . \n",
    " .   .   .   .   .   \n",
    "   X   X   X   X   X \n",
    " x   x   x   x   x   W;\n",
    "'''"
   ]
  },
  {
   "cell_type": "code",
   "execution_count": null,
   "id": "79bc61ec",
   "metadata": {},
   "outputs": [],
   "source": [
    "convertIDtoPos"
   ]
  },
  {
   "cell_type": "code",
   "execution_count": 114,
   "id": "61e3ea3c",
   "metadata": {},
   "outputs": [
    {
     "data": {
      "text/plain": [
       "'..x..'"
      ]
     },
     "execution_count": 114,
     "metadata": {},
     "output_type": "execute_result"
    }
   ],
   "source": [
    "s = '.'*5\n",
    "index = 2\n",
    "s = s[:index] + 'x' + s[index + 1:]\n",
    "s"
   ]
  },
  {
   "cell_type": "code",
   "execution_count": null,
   "id": "e3459c58",
   "metadata": {},
   "outputs": [],
   "source": []
  },
  {
   "cell_type": "code",
   "execution_count": 107,
   "id": "b8a2c2fd",
   "metadata": {
    "scrolled": true
   },
   "outputs": [
    {
     "data": {
      "text/plain": [
       "'oooooOOOOO..............................XXXXXxxxxxW'"
      ]
     },
     "execution_count": 107,
     "metadata": {},
     "output_type": "execute_result"
    }
   ],
   "source": [
    "text"
   ]
  },
  {
   "cell_type": "code",
   "execution_count": 106,
   "id": "955c50a7",
   "metadata": {
    "scrolled": true
   },
   "outputs": [
    {
     "data": {
      "text/plain": [
       "51"
      ]
     },
     "execution_count": 106,
     "metadata": {},
     "output_type": "execute_result"
    }
   ],
   "source": [
    "len(text)"
   ]
  },
  {
   "cell_type": "code",
   "execution_count": 93,
   "id": "a2c864b8",
   "metadata": {},
   "outputs": [],
   "source": [
    "display_position(pos)"
   ]
  },
  {
   "cell_type": "code",
   "execution_count": 94,
   "id": "e50dc873",
   "metadata": {},
   "outputs": [],
   "source": [
    "text = 'oooooOOOOO..............................XXXXXxxxxxW'"
   ]
  },
  {
   "cell_type": "code",
   "execution_count": 3,
   "id": "25b07506",
   "metadata": {},
   "outputs": [
    {
     "name": "stdout",
     "output_type": "stream",
     "text": [
      "eval 26\n",
      "hash 5784582087780755721 5784582087780755721\n"
     ]
    }
   ],
   "source": [
    "pos = parse_position(text)\n",
    "print('eval', eval_position(pos))\n",
    "print('hash', hash_key(pos), hash(pos))"
   ]
  },
  {
   "cell_type": "code",
   "execution_count": 5,
   "id": "a5982fd6",
   "metadata": {},
   "outputs": [
    {
     "name": "stdout",
     "output_type": "stream",
     "text": [
      "    x   x   x   x   x  \n",
      "  x   x   x   x   x  \n",
      "    x   x   x   .   x  \n",
      "  x   x   x   x   x  \n",
      "    o   .   x   .   .  \n",
      "  .   .   .   .   o  \n",
      "    .   o   o   .   o  \n",
      "  o   o   o   o   o  \n",
      "    o   o   o   o   o  \n",
      "  o   o   o   o   o  \n",
      "B\n"
     ]
    }
   ],
   "source": [
    "print(pos)"
   ]
  },
  {
   "cell_type": "code",
   "execution_count": 7,
   "id": "15be9fdc",
   "metadata": {},
   "outputs": [
    {
     "name": "stdout",
     "output_type": "stream",
     "text": [
      "17x26\n",
      "16x27\n"
     ]
    }
   ],
   "source": [
    "moves = generate_moves(pos)\n",
    "for move in moves:\n",
    "    print(print_move(move,pos))"
   ]
  },
  {
   "cell_type": "code",
   "execution_count": 9,
   "id": "a3e7d418",
   "metadata": {},
   "outputs": [
    {
     "name": "stdout",
     "output_type": "stream",
     "text": [
      "16x27\n"
     ]
    }
   ],
   "source": [
    "print(print_move(moves[1],pos))"
   ]
  },
  {
   "cell_type": "code",
   "execution_count": 11,
   "id": "69adcd8c",
   "metadata": {},
   "outputs": [],
   "source": [
    "newpos = pos.succ(moves[1])"
   ]
  },
  {
   "cell_type": "code",
   "execution_count": 12,
   "id": "22c2f369",
   "metadata": {},
   "outputs": [
    {
     "name": "stdout",
     "output_type": "stream",
     "text": [
      "    x   x   x   x   x  \n",
      "  x   x   x   x   x  \n",
      "    x   x   x   .   x  \n",
      "  .   x   x   x   x  \n",
      "    .   .   x   .   .  \n",
      "  .   x   .   .   o  \n",
      "    .   o   o   .   o  \n",
      "  o   o   o   o   o  \n",
      "    o   o   o   o   o  \n",
      "  o   o   o   o   o  \n",
      "W\n"
     ]
    }
   ],
   "source": [
    "print(newpos)"
   ]
  },
  {
   "cell_type": "code",
   "execution_count": 21,
   "id": "76a62516",
   "metadata": {},
   "outputs": [],
   "source": [
    "pos1 = start_position()"
   ]
  },
  {
   "cell_type": "code",
   "execution_count": 22,
   "id": "d0bd33f3",
   "metadata": {},
   "outputs": [
    {
     "data": {
      "text/plain": [
       "xxxxxxxxxxxxxxxxxxxx..........ooooooooooooooooooooW"
      ]
     },
     "execution_count": 22,
     "metadata": {},
     "output_type": "execute_result"
    }
   ],
   "source": [
    "pos1"
   ]
  },
  {
   "cell_type": "code",
   "execution_count": 23,
   "id": "5f84a03c",
   "metadata": {},
   "outputs": [],
   "source": [
    "pos2 = pos1"
   ]
  },
  {
   "cell_type": "code",
   "execution_count": 24,
   "id": "52b65664",
   "metadata": {},
   "outputs": [
    {
     "data": {
      "text/plain": [
       "xxxxxxxxxxxxxxxxxxxx..........ooooooooooooooooooooW"
      ]
     },
     "execution_count": 24,
     "metadata": {},
     "output_type": "execute_result"
    }
   ],
   "source": [
    "pos2"
   ]
  },
  {
   "cell_type": "code",
   "execution_count": 25,
   "id": "0e8610d6",
   "metadata": {},
   "outputs": [],
   "source": [
    "pos2.flip()"
   ]
  },
  {
   "cell_type": "code",
   "execution_count": 26,
   "id": "58ae0f1b",
   "metadata": {},
   "outputs": [
    {
     "data": {
      "text/plain": [
       "xxxxxxxxxxxxxxxxxxxx..........ooooooooooooooooooooB"
      ]
     },
     "execution_count": 26,
     "metadata": {},
     "output_type": "execute_result"
    }
   ],
   "source": [
    "pos2"
   ]
  },
  {
   "cell_type": "code",
   "execution_count": 27,
   "id": "925a35c5",
   "metadata": {},
   "outputs": [
    {
     "data": {
      "text/plain": [
       "xxxxxxxxxxxxxxxxxxxx..........ooooooooooooooooooooB"
      ]
     },
     "execution_count": 27,
     "metadata": {},
     "output_type": "execute_result"
    }
   ],
   "source": [
    "pos1"
   ]
  },
  {
   "cell_type": "code",
   "execution_count": 10,
   "id": "ee744477",
   "metadata": {},
   "outputs": [
    {
     "ename": "TypeError",
     "evalue": "result(): incompatible function arguments. The following argument types are supported:\n    1. (self: draughts1.Pos, arg0: draughts1.Side) -> int\n\nInvoked with: O...........................................X.....W",
     "output_type": "error",
     "traceback": [
      "\u001b[1;31m---------------------------------------------------------------------------\u001b[0m",
      "\u001b[1;31mTypeError\u001b[0m                                 Traceback (most recent call last)",
      "Input \u001b[1;32mIn [10]\u001b[0m, in \u001b[0;36m<cell line: 1>\u001b[1;34m()\u001b[0m\n\u001b[1;32m----> 1\u001b[0m \u001b[43mpos\u001b[49m\u001b[38;5;241;43m.\u001b[39;49m\u001b[43mresult\u001b[49m\u001b[43m(\u001b[49m\u001b[43m)\u001b[49m\n",
      "\u001b[1;31mTypeError\u001b[0m: result(): incompatible function arguments. The following argument types are supported:\n    1. (self: draughts1.Pos, arg0: draughts1.Side) -> int\n\nInvoked with: O...........................................X.....W"
     ]
    }
   ],
   "source": [
    "pos.result()"
   ]
  },
  {
   "cell_type": "code",
   "execution_count": null,
   "id": "e367a035",
   "metadata": {},
   "outputs": [],
   "source": []
  },
  {
   "cell_type": "code",
   "execution_count": 99,
   "id": "35df6c03",
   "metadata": {},
   "outputs": [],
   "source": [
    "import torch\n",
    "import numpy as np\n",
    "from torch.utils.data import TensorDataset, DataLoader"
   ]
  },
  {
   "cell_type": "code",
   "execution_count": 100,
   "id": "98ea3337",
   "metadata": {},
   "outputs": [],
   "source": [
    "my_x = [np.array([[1.0,2],[3,4]]),np.array([[5.,6],[7,8]])] # a list of numpy arrays\n",
    "my_y = [np.array([4.]), np.array([2.])] # another list of numpy arrays (targets)\n",
    "\n",
    "tensor_x = torch.Tensor(my_x) # transform to torch tensor\n",
    "tensor_y = torch.Tensor(my_y)\n",
    "\n",
    "my_dataset = TensorDataset(tensor_x,tensor_y) # create your datset\n",
    "my_dataloader = DataLoader(my_dataset) # create your dataloader"
   ]
  },
  {
   "cell_type": "code",
   "execution_count": null,
   "id": "dd729c4d",
   "metadata": {},
   "outputs": [],
   "source": []
  },
  {
   "cell_type": "code",
   "execution_count": null,
   "id": "65c1883d",
   "metadata": {},
   "outputs": [],
   "source": []
  },
  {
   "cell_type": "code",
   "execution_count": 220,
   "id": "afa0fc97",
   "metadata": {},
   "outputs": [],
   "source": [
    "idd = '00000000000000000000000000000000000000000000000000000000000000000000000000000000000000000000000000000000000000000000000000000001000000000000000000000000000000000000000000000000000000000000000000000001'"
   ]
  },
  {
   "cell_type": "code",
   "execution_count": 103,
   "id": "27ca1291",
   "metadata": {},
   "outputs": [],
   "source": [
    "aa = {'data':[1,2,3,4,5],'flag':[True,False,True,False,True]}"
   ]
  },
  {
   "cell_type": "code",
   "execution_count": 174,
   "id": "25eb5256",
   "metadata": {},
   "outputs": [],
   "source": [
    "idd = '00000000000000000000000000000000000000010000000000100011100000100001000000110000000000000000100000000000000000000000000000000000000000000000000000000000000000000000000000000000000000000000000000000000'"
   ]
  },
  {
   "cell_type": "code",
   "execution_count": 221,
   "id": "370f7c03",
   "metadata": {},
   "outputs": [
    {
     "data": {
      "text/plain": [
       "200"
      ]
     },
     "execution_count": 221,
     "metadata": {},
     "output_type": "execute_result"
    }
   ],
   "source": [
    "len(idd)"
   ]
  },
  {
   "cell_type": "code",
   "execution_count": 212,
   "id": "2a5c0d75",
   "metadata": {},
   "outputs": [],
   "source": [
    "ids = []\n",
    "for i in range(201):\n",
    "    if i%10!=5:\n",
    "        ids.append(i)\n",
    "        if (i%10==0) & (i!=0) & (i!=200):\n",
    "            ids.append(i)"
   ]
  },
  {
   "cell_type": "code",
   "execution_count": 218,
   "id": "6a4cbb02",
   "metadata": {},
   "outputs": [],
   "source": [
    "aa = [1]*200\n",
    "    bb = np.insert(idn,ids,0).reshape(4,10,10)"
   ]
  },
  {
   "cell_type": "code",
   "execution_count": 219,
   "id": "5bf00c6d",
   "metadata": {},
   "outputs": [
    {
     "data": {
      "text/plain": [
       "(4, 10, 10)"
      ]
     },
     "execution_count": 219,
     "metadata": {},
     "output_type": "execute_result"
    }
   ],
   "source": [
    "bb.shape"
   ]
  },
  {
   "cell_type": "code",
   "execution_count": 216,
   "id": "77755099",
   "metadata": {},
   "outputs": [
    {
     "data": {
      "text/plain": [
       "array([0, 0, 0, 0, 0, 0, 0, 0, 0, 0, 0, 0, 0, 0, 0, 0, 0, 0, 0, 0, 0, 0,\n",
       "       0, 0, 0, 0, 0, 0, 0, 0, 0, 0, 0, 0, 0, 0, 0, 0, 0, 1, 0, 0, 0, 0,\n",
       "       0, 0, 0, 0, 0, 0, 1, 0, 0, 0, 1, 1, 1, 0, 0, 0, 0, 0, 1, 0, 0, 0,\n",
       "       0, 1, 0, 0, 0, 0, 0, 0, 1, 1, 0, 0, 0, 0, 0, 0, 0, 0, 0, 0, 0, 0,\n",
       "       0, 0, 0, 0, 1, 0, 0, 0, 0, 0, 0, 0, 0, 0, 0, 0, 0, 0, 0, 0, 0, 0,\n",
       "       0, 0, 0, 0, 0, 0, 0, 0, 0, 0, 0, 0, 0, 0, 0, 0, 0, 0, 0, 0, 0, 0,\n",
       "       0, 0, 0, 0, 0, 0, 0, 0, 0, 0, 0, 0, 0, 0, 0, 0, 0, 0, 0, 0, 0, 0,\n",
       "       0, 0, 0, 0, 0, 0, 0, 0, 0, 0, 0, 0, 0, 0, 0, 0, 0, 0, 0, 0, 0, 0,\n",
       "       0, 0, 0, 0, 0, 0, 0, 0, 0, 0, 0, 0, 0, 0, 0, 0, 0, 0, 0, 0, 0, 0,\n",
       "       0, 0])"
      ]
     },
     "execution_count": 216,
     "metadata": {},
     "output_type": "execute_result"
    }
   ],
   "source": [
    "text = '.'*50\n",
    "idn = np.array([*idd])\n",
    "# idx = np.where(np.array(idd)=='1')[0]\n",
    "idn = idn.astype(int)\n",
    "idn"
   ]
  },
  {
   "cell_type": "code",
   "execution_count": 142,
   "id": "639e8e04",
   "metadata": {
    "collapsed": true
   },
   "outputs": [
    {
     "data": {
      "text/plain": [
       "array([[['0', '0', '0', '0', '0'],\n",
       "        ['0', '0', '0', '0', '0'],\n",
       "        ['0', '0', '0', '0', '0'],\n",
       "        ['0', '0', '0', '0', '0'],\n",
       "        ['0', '0', '0', '0', '0'],\n",
       "        ['0', '0', '0', '0', '0'],\n",
       "        ['0', '0', '0', '0', '0'],\n",
       "        ['0', '0', '0', '0', '1'],\n",
       "        ['0', '0', '0', '0', '0'],\n",
       "        ['0', '0', '0', '0', '0']],\n",
       "\n",
       "       [['1', '0', '0', '0', '1'],\n",
       "        ['1', '1', '0', '0', '0'],\n",
       "        ['0', '0', '1', '0', '0'],\n",
       "        ['0', '0', '1', '0', '0'],\n",
       "        ['0', '0', '0', '0', '1'],\n",
       "        ['1', '0', '0', '0', '0'],\n",
       "        ['0', '0', '0', '0', '0'],\n",
       "        ['0', '0', '0', '0', '0'],\n",
       "        ['0', '0', '1', '0', '0'],\n",
       "        ['0', '0', '0', '0', '0']],\n",
       "\n",
       "       [['0', '0', '0', '0', '0'],\n",
       "        ['0', '0', '0', '0', '0'],\n",
       "        ['0', '0', '0', '0', '0'],\n",
       "        ['0', '0', '0', '0', '0'],\n",
       "        ['0', '0', '0', '0', '0'],\n",
       "        ['0', '0', '0', '0', '0'],\n",
       "        ['0', '0', '0', '0', '0'],\n",
       "        ['0', '0', '0', '0', '0'],\n",
       "        ['0', '0', '0', '0', '0'],\n",
       "        ['0', '0', '0', '0', '0']],\n",
       "\n",
       "       [['0', '0', '0', '0', '0'],\n",
       "        ['0', '0', '0', '0', '0'],\n",
       "        ['0', '0', '0', '0', '0'],\n",
       "        ['0', '0', '0', '0', '0'],\n",
       "        ['0', '0', '0', '0', '0'],\n",
       "        ['0', '0', '0', '0', '0'],\n",
       "        ['0', '0', '0', '0', '0'],\n",
       "        ['0', '0', '0', '0', '0'],\n",
       "        ['0', '0', '0', '0', '0'],\n",
       "        ['0', '0', '0', '0', '0']]], dtype='<U1')"
      ]
     },
     "execution_count": 142,
     "metadata": {},
     "output_type": "execute_result"
    }
   ],
   "source": [
    "idd.reshape(4,10,5)"
   ]
  },
  {
   "cell_type": "code",
   "execution_count": 140,
   "id": "d0bae410",
   "metadata": {},
   "outputs": [
    {
     "data": {
      "text/plain": [
       "'x...xxx.....x....x......xx.............o..x.......W'"
      ]
     },
     "execution_count": 140,
     "metadata": {},
     "output_type": "execute_result"
    }
   ],
   "source": [
    "text = '.'*50\n",
    "idd = np.array([*idd])\n",
    "idx = np.where(np.array(idd)=='1')[0]\n",
    "# print(idx)\n",
    "chrs = ['o','x','O','X']\n",
    "for i in idx:\n",
    "    index = i%50\n",
    "    text = text[:index] + chrs[int(i/50)] + text[index + 1:]\n",
    "text += 'W'\n",
    "pos = parse_position(text)"
   ]
  },
  {
   "cell_type": "code",
   "execution_count": 132,
   "id": "5242e96f",
   "metadata": {},
   "outputs": [
    {
     "name": "stdout",
     "output_type": "stream",
     "text": [
      "eval -1098\n",
      "hash 3580854366657979709 3580854366657979709\n"
     ]
    }
   ],
   "source": [
    "pos = parse_position(text)\n",
    "print('eval', eval_position(pos))\n",
    "print('hash', hash_key(pos), hash(pos))"
   ]
  },
  {
   "cell_type": "code",
   "execution_count": 133,
   "id": "f9cf71c6",
   "metadata": {},
   "outputs": [],
   "source": [
    "display_position(pos)"
   ]
  },
  {
   "cell_type": "code",
   "execution_count": 104,
   "id": "223140b2",
   "metadata": {},
   "outputs": [
    {
     "ename": "TypeError",
     "evalue": "string indices must be integers",
     "output_type": "error",
     "traceback": [
      "\u001b[1;31m---------------------------------------------------------------------------\u001b[0m",
      "\u001b[1;31mTypeError\u001b[0m                                 Traceback (most recent call last)",
      "Input \u001b[1;32mIn [104]\u001b[0m, in \u001b[0;36m<cell line: 1>\u001b[1;34m()\u001b[0m\n\u001b[1;32m----> 1\u001b[0m odd \u001b[38;5;241m=\u001b[39m np\u001b[38;5;241m.\u001b[39marray([row[\u001b[38;5;124m'\u001b[39m\u001b[38;5;124mdata\u001b[39m\u001b[38;5;124m'\u001b[39m] \u001b[38;5;28;01mfor\u001b[39;00m row \u001b[38;5;129;01min\u001b[39;00m aa])\n\u001b[0;32m      2\u001b[0m odd\n",
      "Input \u001b[1;32mIn [104]\u001b[0m, in \u001b[0;36m<listcomp>\u001b[1;34m(.0)\u001b[0m\n\u001b[1;32m----> 1\u001b[0m odd \u001b[38;5;241m=\u001b[39m np\u001b[38;5;241m.\u001b[39marray([\u001b[43mrow\u001b[49m\u001b[43m[\u001b[49m\u001b[38;5;124;43m'\u001b[39;49m\u001b[38;5;124;43mdata\u001b[39;49m\u001b[38;5;124;43m'\u001b[39;49m\u001b[43m]\u001b[49m \u001b[38;5;28;01mfor\u001b[39;00m row \u001b[38;5;129;01min\u001b[39;00m aa])\n\u001b[0;32m      2\u001b[0m odd\n",
      "\u001b[1;31mTypeError\u001b[0m: string indices must be integers"
     ]
    }
   ],
   "source": [
    "odd = np.array([row['data'] for row in aa])\n",
    "odd"
   ]
  },
  {
   "cell_type": "code",
   "execution_count": 77,
   "id": "55e55495",
   "metadata": {},
   "outputs": [
    {
     "data": {
      "text/plain": [
       "'11111000000000000000000000000000000000000000000000000000000000000000000000000000000000000000000111110000011111000000000000000000000000000000000000000000000000000000000000000000000000000000001111100000'"
      ]
     },
     "execution_count": 77,
     "metadata": {},
     "output_type": "execute_result"
    }
   ],
   "source": [
    "# def convertPosTo\n",
    "board = np.array(np.zeros(200),dtype=int)\n",
    "ppos = pos\n",
    "if not ppos.is_white_to_move():\n",
    "    ppos.flip()\n",
    "text = print_position(ppos, False, True)\n",
    "text = np.array([*text[:-1]])\n",
    "\n",
    "for i,c in enumerate(['o','x','O','X']):\n",
    "    idx = np.where(np.array(text)==c)[0]\n",
    "    board[idx+50*i]=1\n",
    "''.join(map(str,board))"
   ]
  },
  {
   "cell_type": "code",
   "execution_count": null,
   "id": "e5f84af5",
   "metadata": {},
   "outputs": [],
   "source": [
    "pos"
   ]
  },
  {
   "cell_type": "code",
   "execution_count": 57,
   "id": "f487ef8a",
   "metadata": {},
   "outputs": [
    {
     "data": {
      "text/plain": [
       "(array([0, 1, 2, 3, 4], dtype=int64),)"
      ]
     },
     "execution_count": 57,
     "metadata": {},
     "output_type": "execute_result"
    }
   ],
   "source": [
    "idx"
   ]
  },
  {
   "cell_type": "code",
   "execution_count": 75,
   "id": "d140a2db",
   "metadata": {},
   "outputs": [
    {
     "data": {
      "text/plain": [
       "array([[[0, 1, 0, 1, 0, 1, 0, 1, 0, 1],\n",
       "        [0, 0, 0, 0, 0, 0, 0, 0, 0, 0],\n",
       "        [0, 0, 0, 0, 0, 0, 0, 0, 0, 0],\n",
       "        [0, 0, 0, 0, 0, 0, 0, 0, 0, 0],\n",
       "        [0, 0, 0, 0, 0, 0, 0, 0, 0, 0],\n",
       "        [0, 0, 0, 0, 0, 0, 0, 0, 0, 0],\n",
       "        [0, 0, 0, 0, 0, 0, 0, 0, 0, 0],\n",
       "        [0, 0, 0, 0, 0, 0, 0, 0, 0, 0],\n",
       "        [0, 0, 0, 0, 0, 0, 0, 0, 0, 0],\n",
       "        [0, 0, 0, 0, 0, 0, 0, 0, 0, 0]],\n",
       "\n",
       "       [[0, 0, 0, 0, 0, 0, 0, 0, 0, 0],\n",
       "        [0, 0, 0, 0, 0, 0, 0, 0, 0, 0],\n",
       "        [0, 0, 0, 0, 0, 0, 0, 0, 0, 0],\n",
       "        [0, 0, 0, 0, 0, 0, 0, 0, 0, 0],\n",
       "        [0, 0, 0, 0, 0, 0, 0, 0, 0, 0],\n",
       "        [0, 0, 0, 0, 0, 0, 0, 0, 0, 0],\n",
       "        [0, 0, 0, 0, 0, 0, 0, 0, 0, 0],\n",
       "        [0, 0, 0, 0, 0, 0, 0, 0, 0, 0],\n",
       "        [0, 0, 0, 0, 0, 0, 0, 0, 0, 0],\n",
       "        [1, 0, 1, 0, 1, 0, 1, 0, 1, 0]],\n",
       "\n",
       "       [[0, 0, 0, 0, 0, 0, 0, 0, 0, 0],\n",
       "        [1, 0, 1, 0, 1, 0, 1, 0, 1, 0],\n",
       "        [0, 0, 0, 0, 0, 0, 0, 0, 0, 0],\n",
       "        [0, 0, 0, 0, 0, 0, 0, 0, 0, 0],\n",
       "        [0, 0, 0, 0, 0, 0, 0, 0, 0, 0],\n",
       "        [0, 0, 0, 0, 0, 0, 0, 0, 0, 0],\n",
       "        [0, 0, 0, 0, 0, 0, 0, 0, 0, 0],\n",
       "        [0, 0, 0, 0, 0, 0, 0, 0, 0, 0],\n",
       "        [0, 0, 0, 0, 0, 0, 0, 0, 0, 0],\n",
       "        [0, 0, 0, 0, 0, 0, 0, 0, 0, 0]],\n",
       "\n",
       "       [[0, 0, 0, 0, 0, 0, 0, 0, 0, 0],\n",
       "        [0, 0, 0, 0, 0, 0, 0, 0, 0, 0],\n",
       "        [0, 0, 0, 0, 0, 0, 0, 0, 0, 0],\n",
       "        [0, 0, 0, 0, 0, 0, 0, 0, 0, 0],\n",
       "        [0, 0, 0, 0, 0, 0, 0, 0, 0, 0],\n",
       "        [0, 0, 0, 0, 0, 0, 0, 0, 0, 0],\n",
       "        [0, 0, 0, 0, 0, 0, 0, 0, 0, 0],\n",
       "        [0, 0, 0, 0, 0, 0, 0, 0, 0, 0],\n",
       "        [0, 1, 0, 1, 0, 1, 0, 1, 0, 1],\n",
       "        [0, 0, 0, 0, 0, 0, 0, 0, 0, 0]]])"
      ]
     },
     "execution_count": 75,
     "metadata": {},
     "output_type": "execute_result"
    }
   ],
   "source": [
    "pos_to_numpy1(ppos).reshape(4,10,10)"
   ]
  },
  {
   "cell_type": "code",
   "execution_count": null,
   "id": "fae07ed0",
   "metadata": {},
   "outputs": [],
   "source": []
  },
  {
   "cell_type": "code",
   "execution_count": null,
   "id": "78bc8cb7",
   "metadata": {},
   "outputs": [],
   "source": [
    "def convertPosToID(pos):\n",
    "\n",
    "    text = print_position(pos, False, True)\n",
    "\n",
    "    chr_player = 'o' if pos.is_white_to_move() else 'x'\n",
    "    chr_other = 'x' if pos.is_white_to_move() else 'o'\n",
    "\n",
    "    currentplayer_man = []\n",
    "    other_man = []\n",
    "    currentplayer_king = []\n",
    "    other_king = []\n",
    "\n",
    "    for a,i in enumerate(text[:-1]):\n",
    "        if a%10<5:\n",
    "            currentplayer_man.append(0)\n",
    "            other_man.append(0)\n",
    "            currentplayer_king.append(0)\n",
    "            other_king.append(0)\n",
    "        \n",
    "        currentplayer_man.append(1 if i==chr_player else 0)\n",
    "        other_man.append(1 if i==chr_other else 0)\n",
    "        currentplayer_king.append(1 if i==chr_player.upper() else 0)\n",
    "        other_king.append(1 if i==chr_other.upper() else 0)\n",
    "        \n",
    "        if a%10>=5:\n",
    "            currentplayer_man.append(0)\n",
    "            other_man.append(0)\n",
    "            currentplayer_king.append(0)\n",
    "            other_king.append(0)\n",
    "            \n",
    "\n",
    "    position = np.concatenate((currentplayer_man, other_man, currentplayer_king, other_king), axis=0)\n",
    "    return np.array(position)"
   ]
  },
  {
   "cell_type": "code",
   "execution_count": null,
   "id": "c1f79565",
   "metadata": {},
   "outputs": [],
   "source": []
  },
  {
   "cell_type": "code",
   "execution_count": 31,
   "id": "e2bcbe4e",
   "metadata": {
    "collapsed": true
   },
   "outputs": [
    {
     "data": {
      "text/plain": [
       "<Side.White: 0>"
      ]
     },
     "execution_count": 31,
     "metadata": {},
     "output_type": "execute_result"
    }
   ],
   "source": [
    "pos.turn()"
   ]
  },
  {
   "cell_type": "raw",
   "id": "eeb1b022",
   "metadata": {},
   "source": [
    "pos.turn()"
   ]
  },
  {
   "cell_type": "code",
   "execution_count": 10,
   "id": "f7f09e48",
   "metadata": {},
   "outputs": [],
   "source": [
    "wt = pos.turn()"
   ]
  },
  {
   "cell_type": "code",
   "execution_count": 6,
   "id": "08a4e517",
   "metadata": {},
   "outputs": [],
   "source": [
    "bt = pos.turn()"
   ]
  },
  {
   "cell_type": "code",
   "execution_count": 33,
   "id": "e617bad2",
   "metadata": {},
   "outputs": [
    {
     "data": {
      "text/plain": [
       "1"
      ]
     },
     "execution_count": 33,
     "metadata": {},
     "output_type": "execute_result"
    }
   ],
   "source": [
    "pos.result(bt)"
   ]
  },
  {
   "cell_type": "code",
   "execution_count": null,
   "id": "a1f15046",
   "metadata": {},
   "outputs": [],
   "source": [
    "moves = generate_moves(pos)"
   ]
  },
  {
   "cell_type": "code",
   "execution_count": null,
   "id": "62371db1",
   "metadata": {},
   "outputs": [],
   "source": [
    "for move in moves:\n",
    "    print(print_move(move, pos))"
   ]
  },
  {
   "cell_type": "code",
   "execution_count": 4,
   "id": "f47455d6",
   "metadata": {},
   "outputs": [],
   "source": [
    "display_position(pos)"
   ]
  },
  {
   "cell_type": "code",
   "execution_count": null,
   "id": "1d888873",
   "metadata": {},
   "outputs": [],
   "source": [
    "def get_move_id(action,pos,move_df):\n",
    "    move = print_move(action,pos)\n",
    "    if move_is_capture(action,pos):\n",
    "           pos_str = move.split('x')\n",
    "    else:\n",
    "        pos_str = move.split('-')\n",
    "\n",
    "    from_ = int(pos_str[0])\n",
    "    to_ = int(pos_str[1])\n",
    "    \n",
    "    move_id = move_df[(move_df['from']==from_)&(move_df['to']==to_)]['move_id'].iloc[0]\n",
    "    \n",
    "    return move_id"
   ]
  },
  {
   "cell_type": "code",
   "execution_count": null,
   "id": "805eee3c",
   "metadata": {},
   "outputs": [],
   "source": [
    "for move in moves:\n",
    "    move_id = get_move_id(move, pos,nmoves)\n",
    "    print(move_id)\n",
    "    print(print_move(get_move(move_id,nmoves),pos))"
   ]
  },
  {
   "cell_type": "code",
   "execution_count": null,
   "id": "2f1c1bb3",
   "metadata": {},
   "outputs": [],
   "source": [
    "def get_move(move_id,move_df):\n",
    "    mv = move_df[move_df['move_id']==move_id]\n",
    "    from_ = mv['from'].iloc[0]\n",
    "    to_ = mv['to'].iloc[0]\n",
    "    \n",
    "    move_str = str(from_)+'-'+str(to_)\n",
    "    \n",
    "    return parse_move(move_str,pos)"
   ]
  },
  {
   "cell_type": "code",
   "execution_count": null,
   "id": "cd0b27d2",
   "metadata": {},
   "outputs": [],
   "source": [
    "display_position(pos)"
   ]
  },
  {
   "cell_type": "code",
   "execution_count": null,
   "id": "2b6a22bc",
   "metadata": {},
   "outputs": [],
   "source": [
    "pos.flip()"
   ]
  },
  {
   "cell_type": "code",
   "execution_count": null,
   "id": "374cfe50",
   "metadata": {
    "scrolled": true
   },
   "outputs": [],
   "source": [
    "for move in moves:\n",
    "    move_id = get_move_id(move, pos,nmoves)\n",
    "    print(move_id)\n",
    "    print(print_move(get_move(move_id,nmoves),pos))"
   ]
  },
  {
   "cell_type": "code",
   "execution_count": null,
   "id": "f3e64f8f",
   "metadata": {},
   "outputs": [],
   "source": [
    "Scan.set(\"bb-size\", \"5\")\n",
    "Scan.update()\n",
    "\n",
    "\n",
    "EGDB.probe(pos)"
   ]
  },
  {
   "cell_type": "code",
   "execution_count": null,
   "id": "11d98e1c",
   "metadata": {},
   "outputs": [],
   "source": [
    "max_depth = 15\n",
    "max_time = 5\n",
    "score, move = scan_search(pos, max_depth, max_time)\n",
    "score"
   ]
  },
  {
   "cell_type": "code",
   "execution_count": null,
   "id": "11169487",
   "metadata": {},
   "outputs": [],
   "source": [
    "pos_to_numpy1(pos)"
   ]
  },
  {
   "cell_type": "code",
   "execution_count": null,
   "id": "76fe9bb4",
   "metadata": {},
   "outputs": [],
   "source": [
    "convertPosToID(pos).reshape(4,10,10)"
   ]
  },
  {
   "cell_type": "code",
   "execution_count": null,
   "id": "3694fbb5",
   "metadata": {},
   "outputs": [],
   "source": [
    "pos_to_numpy1(pos).reshape(4,10,10)"
   ]
  },
  {
   "cell_type": "code",
   "execution_count": null,
   "id": "430c388b",
   "metadata": {},
   "outputs": [],
   "source": [
    "y5_true[3424]"
   ]
  },
  {
   "cell_type": "code",
   "execution_count": null,
   "id": "93932e69",
   "metadata": {},
   "outputs": [],
   "source": [
    "y5n[3424]"
   ]
  },
  {
   "cell_type": "code",
   "execution_count": null,
   "id": "5860329e",
   "metadata": {},
   "outputs": [],
   "source": [
    "y5_score[3424]"
   ]
  },
  {
   "cell_type": "code",
   "execution_count": null,
   "id": "e971345f",
   "metadata": {},
   "outputs": [],
   "source": [
    "X5[3424]"
   ]
  },
  {
   "cell_type": "code",
   "execution_count": null,
   "id": "821efd5a",
   "metadata": {},
   "outputs": [],
   "source": [
    "si = SearchInput()\n",
    "si.move = True\n",
    "si.book = False\n",
    "si.depth = 15\n",
    "si.nodes = 1000000000000\n",
    "si.time = 5.0\n",
    "si.input = True\n",
    "si.output = OutputType.Terminal\n",
    "\n",
    "so = SearchOutput()\n",
    "node = make_node(pos)\n",
    "search(so, node, si)"
   ]
  },
  {
   "cell_type": "code",
   "execution_count": null,
   "id": "8048993c",
   "metadata": {},
   "outputs": [],
   "source": [
    "Scan.set(\"bb-size\", \"2\")\n",
    "Scan.update()\n",
    "\n",
    "\n",
    "EGDB.probe(pos)"
   ]
  },
  {
   "cell_type": "code",
   "execution_count": null,
   "id": "bf6ad997",
   "metadata": {},
   "outputs": [],
   "source": [
    "display_position(pos)"
   ]
  },
  {
   "cell_type": "code",
   "execution_count": null,
   "id": "e9d0d639",
   "metadata": {},
   "outputs": [],
   "source": [
    "pos"
   ]
  },
  {
   "cell_type": "code",
   "execution_count": null,
   "id": "42399c4c",
   "metadata": {},
   "outputs": [],
   "source": [
    "for i in range(1):\n",
    "    print(i)"
   ]
  },
  {
   "cell_type": "code",
   "execution_count": 2,
   "id": "6b06cef8",
   "metadata": {},
   "outputs": [],
   "source": [
    "import numpy as np\n",
    "import pandas as pd"
   ]
  },
  {
   "cell_type": "code",
   "execution_count": 3,
   "id": "70932fdd",
   "metadata": {},
   "outputs": [],
   "source": [
    "board = [[0,1,0,2,0,3,0,4,0,5],\n",
    "        [6,0,7,0,8,0,9,0,10,0],\n",
    "        [0,11,0,12,0,13,0,14,0,15],\n",
    "        [16,0,17,0,18,0,19,0,20,0],\n",
    "        [0,21,0,22,0,23,0,24,0,25],\n",
    "        [26,0,27,0,28,0,29,0,30,0],\n",
    "        [0,31,0,32,0,33,0,34,0,35],\n",
    "        [36,0,37,0,38,0,39,0,40,0],\n",
    "        [0,41,0,42,0,43,0,44,0,45],\n",
    "        [46,0,47,0,48,0,49,0,50,0]]"
   ]
  },
  {
   "cell_type": "code",
   "execution_count": null,
   "id": "0bf1e4ce",
   "metadata": {},
   "outputs": [],
   "source": [
    "np.min([3,2])"
   ]
  },
  {
   "cell_type": "code",
   "execution_count": 28,
   "id": "6a0c2cfe",
   "metadata": {},
   "outputs": [],
   "source": [
    "from_ = []\n",
    "to_ = []\n",
    "move_id = []\n",
    "count = 0\n",
    "for i in range(10):\n",
    "    for j in range(10):\n",
    "        if board[i][j]>0:\n",
    "            start = board[i][j]\n",
    "            # top left\n",
    "            k = 1\n",
    "            while (i-k>=0) & (j-k>=0):\n",
    "                from_.append(board[i][j])\n",
    "                to_.append(board[i-k][j-k])\n",
    "                move_id.append(count)\n",
    "                count+=1\n",
    "                k+=1\n",
    "            # top\n",
    "            k = 1\n",
    "            while (i-k>=0):\n",
    "                if board[i-k][j]!=0:\n",
    "                    from_.append(board[i][j])\n",
    "                    to_.append(board[i-k][j])\n",
    "                    move_id.append(count)\n",
    "                    count+=1\n",
    "                k+=1\n",
    "            # top right\n",
    "            k = 1\n",
    "            while (i-k>=0) & (j+k<10):\n",
    "                from_.append(board[i][j])\n",
    "                to_.append(board[i-k][j+k])\n",
    "                move_id.append(count)\n",
    "                count+=1\n",
    "                k+=1\n",
    "            # right\n",
    "            k = 1\n",
    "            while (j+k<10):\n",
    "                if board[i][j+k]!=0:\n",
    "                    from_.append(board[i][j])\n",
    "                    to_.append(board[i][j+k])\n",
    "                    move_id.append(count)\n",
    "                    count+=1\n",
    "                k+=1\n",
    "            # left\n",
    "            k = 1\n",
    "            while (j-k>=0):\n",
    "                if board[i][j-k]!=0:\n",
    "                    from_.append(board[i][j])\n",
    "                    to_.append(board[i][j-k])\n",
    "                    move_id.append(count)\n",
    "                    count+=1\n",
    "                k+=1\n",
    "            # bottom left\n",
    "            k = 1\n",
    "            while (i+k<10) & (j-k>=0):\n",
    "                from_.append(board[i][j])\n",
    "                to_.append(board[i+k][j-k])\n",
    "                move_id.append(count)\n",
    "                count+=1\n",
    "                k+=1\n",
    "            \n",
    "            # bottom\n",
    "            k = 1\n",
    "            while (i+k<10):\n",
    "                if board[i+k][j]!=0:\n",
    "                    from_.append(board[i][j])\n",
    "                    to_.append(board[i+k][j])\n",
    "                    move_id.append(count)\n",
    "                    count+=1\n",
    "                k+=1\n",
    "            \n",
    "            # bottom right\n",
    "            k = 1\n",
    "            while (i+k<10) & (j+k<10):\n",
    "                from_.append(board[i][j])\n",
    "                to_.append(board[i+k][j+k])\n",
    "                move_id.append(count)\n",
    "                count+=1\n",
    "                k+=1\n",
    "            "
   ]
  },
  {
   "cell_type": "code",
   "execution_count": 13,
   "id": "8f7c86b1",
   "metadata": {},
   "outputs": [
    {
     "data": {
      "text/plain": [
       "2450"
      ]
     },
     "execution_count": 13,
     "metadata": {},
     "output_type": "execute_result"
    }
   ],
   "source": [
    "count"
   ]
  },
  {
   "cell_type": "code",
   "execution_count": 4,
   "id": "b044e088",
   "metadata": {},
   "outputs": [],
   "source": [
    "count = 0\n",
    "from_ = []\n",
    "to_ = []\n",
    "move_id = []\n",
    "for i in range(1,51):\n",
    "    for j in range(1,51):\n",
    "        from_.append(i)\n",
    "        to_.append(j)\n",
    "        move_id.append(count)\n",
    "        count+=1"
   ]
  },
  {
   "cell_type": "code",
   "execution_count": 5,
   "id": "f3e74409",
   "metadata": {},
   "outputs": [],
   "source": [
    "capture_moves = pd.DataFrame({'from':from_, 'to':to_, 'move_id':move_id})"
   ]
  },
  {
   "cell_type": "code",
   "execution_count": 6,
   "id": "99897abc",
   "metadata": {},
   "outputs": [
    {
     "data": {
      "text/html": [
       "<div>\n",
       "<style scoped>\n",
       "    .dataframe tbody tr th:only-of-type {\n",
       "        vertical-align: middle;\n",
       "    }\n",
       "\n",
       "    .dataframe tbody tr th {\n",
       "        vertical-align: top;\n",
       "    }\n",
       "\n",
       "    .dataframe thead th {\n",
       "        text-align: right;\n",
       "    }\n",
       "</style>\n",
       "<table border=\"1\" class=\"dataframe\">\n",
       "  <thead>\n",
       "    <tr style=\"text-align: right;\">\n",
       "      <th></th>\n",
       "      <th>from</th>\n",
       "      <th>to</th>\n",
       "      <th>move_id</th>\n",
       "    </tr>\n",
       "  </thead>\n",
       "  <tbody>\n",
       "    <tr>\n",
       "      <th>0</th>\n",
       "      <td>1</td>\n",
       "      <td>1</td>\n",
       "      <td>0</td>\n",
       "    </tr>\n",
       "    <tr>\n",
       "      <th>1</th>\n",
       "      <td>1</td>\n",
       "      <td>2</td>\n",
       "      <td>1</td>\n",
       "    </tr>\n",
       "    <tr>\n",
       "      <th>2</th>\n",
       "      <td>1</td>\n",
       "      <td>3</td>\n",
       "      <td>2</td>\n",
       "    </tr>\n",
       "    <tr>\n",
       "      <th>3</th>\n",
       "      <td>1</td>\n",
       "      <td>4</td>\n",
       "      <td>3</td>\n",
       "    </tr>\n",
       "    <tr>\n",
       "      <th>4</th>\n",
       "      <td>1</td>\n",
       "      <td>5</td>\n",
       "      <td>4</td>\n",
       "    </tr>\n",
       "    <tr>\n",
       "      <th>...</th>\n",
       "      <td>...</td>\n",
       "      <td>...</td>\n",
       "      <td>...</td>\n",
       "    </tr>\n",
       "    <tr>\n",
       "      <th>2495</th>\n",
       "      <td>50</td>\n",
       "      <td>46</td>\n",
       "      <td>2495</td>\n",
       "    </tr>\n",
       "    <tr>\n",
       "      <th>2496</th>\n",
       "      <td>50</td>\n",
       "      <td>47</td>\n",
       "      <td>2496</td>\n",
       "    </tr>\n",
       "    <tr>\n",
       "      <th>2497</th>\n",
       "      <td>50</td>\n",
       "      <td>48</td>\n",
       "      <td>2497</td>\n",
       "    </tr>\n",
       "    <tr>\n",
       "      <th>2498</th>\n",
       "      <td>50</td>\n",
       "      <td>49</td>\n",
       "      <td>2498</td>\n",
       "    </tr>\n",
       "    <tr>\n",
       "      <th>2499</th>\n",
       "      <td>50</td>\n",
       "      <td>50</td>\n",
       "      <td>2499</td>\n",
       "    </tr>\n",
       "  </tbody>\n",
       "</table>\n",
       "<p>2500 rows × 3 columns</p>\n",
       "</div>"
      ],
      "text/plain": [
       "      from  to  move_id\n",
       "0        1   1        0\n",
       "1        1   2        1\n",
       "2        1   3        2\n",
       "3        1   4        3\n",
       "4        1   5        4\n",
       "...    ...  ..      ...\n",
       "2495    50  46     2495\n",
       "2496    50  47     2496\n",
       "2497    50  48     2497\n",
       "2498    50  49     2498\n",
       "2499    50  50     2499\n",
       "\n",
       "[2500 rows x 3 columns]"
      ]
     },
     "execution_count": 6,
     "metadata": {},
     "output_type": "execute_result"
    }
   ],
   "source": [
    "capture_moves"
   ]
  },
  {
   "cell_type": "code",
   "execution_count": 9,
   "id": "7427c235",
   "metadata": {},
   "outputs": [],
   "source": [
    "capture_moves.to_csv('capture_moves.csv')"
   ]
  },
  {
   "cell_type": "code",
   "execution_count": 8,
   "id": "4e5af3e9",
   "metadata": {},
   "outputs": [
    {
     "data": {
      "text/html": [
       "<div>\n",
       "<style scoped>\n",
       "    .dataframe tbody tr th:only-of-type {\n",
       "        vertical-align: middle;\n",
       "    }\n",
       "\n",
       "    .dataframe tbody tr th {\n",
       "        vertical-align: top;\n",
       "    }\n",
       "\n",
       "    .dataframe thead th {\n",
       "        text-align: right;\n",
       "    }\n",
       "</style>\n",
       "<table border=\"1\" class=\"dataframe\">\n",
       "  <thead>\n",
       "    <tr style=\"text-align: right;\">\n",
       "      <th></th>\n",
       "      <th>from</th>\n",
       "      <th>to</th>\n",
       "      <th>move_id</th>\n",
       "    </tr>\n",
       "  </thead>\n",
       "  <tbody>\n",
       "    <tr>\n",
       "      <th>0</th>\n",
       "      <td>1</td>\n",
       "      <td>1</td>\n",
       "      <td>0</td>\n",
       "    </tr>\n",
       "    <tr>\n",
       "      <th>1</th>\n",
       "      <td>1</td>\n",
       "      <td>2</td>\n",
       "      <td>1</td>\n",
       "    </tr>\n",
       "    <tr>\n",
       "      <th>2</th>\n",
       "      <td>1</td>\n",
       "      <td>3</td>\n",
       "      <td>2</td>\n",
       "    </tr>\n",
       "    <tr>\n",
       "      <th>3</th>\n",
       "      <td>1</td>\n",
       "      <td>4</td>\n",
       "      <td>3</td>\n",
       "    </tr>\n",
       "    <tr>\n",
       "      <th>4</th>\n",
       "      <td>1</td>\n",
       "      <td>5</td>\n",
       "      <td>4</td>\n",
       "    </tr>\n",
       "    <tr>\n",
       "      <th>5</th>\n",
       "      <td>1</td>\n",
       "      <td>6</td>\n",
       "      <td>5</td>\n",
       "    </tr>\n",
       "    <tr>\n",
       "      <th>6</th>\n",
       "      <td>1</td>\n",
       "      <td>7</td>\n",
       "      <td>6</td>\n",
       "    </tr>\n",
       "    <tr>\n",
       "      <th>7</th>\n",
       "      <td>1</td>\n",
       "      <td>8</td>\n",
       "      <td>7</td>\n",
       "    </tr>\n",
       "    <tr>\n",
       "      <th>8</th>\n",
       "      <td>1</td>\n",
       "      <td>9</td>\n",
       "      <td>8</td>\n",
       "    </tr>\n",
       "    <tr>\n",
       "      <th>9</th>\n",
       "      <td>1</td>\n",
       "      <td>10</td>\n",
       "      <td>9</td>\n",
       "    </tr>\n",
       "    <tr>\n",
       "      <th>10</th>\n",
       "      <td>1</td>\n",
       "      <td>11</td>\n",
       "      <td>10</td>\n",
       "    </tr>\n",
       "    <tr>\n",
       "      <th>11</th>\n",
       "      <td>1</td>\n",
       "      <td>12</td>\n",
       "      <td>11</td>\n",
       "    </tr>\n",
       "    <tr>\n",
       "      <th>12</th>\n",
       "      <td>1</td>\n",
       "      <td>13</td>\n",
       "      <td>12</td>\n",
       "    </tr>\n",
       "    <tr>\n",
       "      <th>13</th>\n",
       "      <td>1</td>\n",
       "      <td>14</td>\n",
       "      <td>13</td>\n",
       "    </tr>\n",
       "    <tr>\n",
       "      <th>14</th>\n",
       "      <td>1</td>\n",
       "      <td>15</td>\n",
       "      <td>14</td>\n",
       "    </tr>\n",
       "    <tr>\n",
       "      <th>15</th>\n",
       "      <td>1</td>\n",
       "      <td>16</td>\n",
       "      <td>15</td>\n",
       "    </tr>\n",
       "    <tr>\n",
       "      <th>16</th>\n",
       "      <td>1</td>\n",
       "      <td>17</td>\n",
       "      <td>16</td>\n",
       "    </tr>\n",
       "    <tr>\n",
       "      <th>17</th>\n",
       "      <td>1</td>\n",
       "      <td>18</td>\n",
       "      <td>17</td>\n",
       "    </tr>\n",
       "    <tr>\n",
       "      <th>18</th>\n",
       "      <td>1</td>\n",
       "      <td>19</td>\n",
       "      <td>18</td>\n",
       "    </tr>\n",
       "    <tr>\n",
       "      <th>19</th>\n",
       "      <td>1</td>\n",
       "      <td>20</td>\n",
       "      <td>19</td>\n",
       "    </tr>\n",
       "    <tr>\n",
       "      <th>20</th>\n",
       "      <td>1</td>\n",
       "      <td>21</td>\n",
       "      <td>20</td>\n",
       "    </tr>\n",
       "    <tr>\n",
       "      <th>21</th>\n",
       "      <td>1</td>\n",
       "      <td>22</td>\n",
       "      <td>21</td>\n",
       "    </tr>\n",
       "    <tr>\n",
       "      <th>22</th>\n",
       "      <td>1</td>\n",
       "      <td>23</td>\n",
       "      <td>22</td>\n",
       "    </tr>\n",
       "    <tr>\n",
       "      <th>23</th>\n",
       "      <td>1</td>\n",
       "      <td>24</td>\n",
       "      <td>23</td>\n",
       "    </tr>\n",
       "    <tr>\n",
       "      <th>24</th>\n",
       "      <td>1</td>\n",
       "      <td>25</td>\n",
       "      <td>24</td>\n",
       "    </tr>\n",
       "    <tr>\n",
       "      <th>25</th>\n",
       "      <td>1</td>\n",
       "      <td>26</td>\n",
       "      <td>25</td>\n",
       "    </tr>\n",
       "    <tr>\n",
       "      <th>26</th>\n",
       "      <td>1</td>\n",
       "      <td>27</td>\n",
       "      <td>26</td>\n",
       "    </tr>\n",
       "    <tr>\n",
       "      <th>27</th>\n",
       "      <td>1</td>\n",
       "      <td>28</td>\n",
       "      <td>27</td>\n",
       "    </tr>\n",
       "    <tr>\n",
       "      <th>28</th>\n",
       "      <td>1</td>\n",
       "      <td>29</td>\n",
       "      <td>28</td>\n",
       "    </tr>\n",
       "    <tr>\n",
       "      <th>29</th>\n",
       "      <td>1</td>\n",
       "      <td>30</td>\n",
       "      <td>29</td>\n",
       "    </tr>\n",
       "    <tr>\n",
       "      <th>30</th>\n",
       "      <td>1</td>\n",
       "      <td>31</td>\n",
       "      <td>30</td>\n",
       "    </tr>\n",
       "    <tr>\n",
       "      <th>31</th>\n",
       "      <td>1</td>\n",
       "      <td>32</td>\n",
       "      <td>31</td>\n",
       "    </tr>\n",
       "    <tr>\n",
       "      <th>32</th>\n",
       "      <td>1</td>\n",
       "      <td>33</td>\n",
       "      <td>32</td>\n",
       "    </tr>\n",
       "    <tr>\n",
       "      <th>33</th>\n",
       "      <td>1</td>\n",
       "      <td>34</td>\n",
       "      <td>33</td>\n",
       "    </tr>\n",
       "    <tr>\n",
       "      <th>34</th>\n",
       "      <td>1</td>\n",
       "      <td>35</td>\n",
       "      <td>34</td>\n",
       "    </tr>\n",
       "    <tr>\n",
       "      <th>35</th>\n",
       "      <td>1</td>\n",
       "      <td>36</td>\n",
       "      <td>35</td>\n",
       "    </tr>\n",
       "    <tr>\n",
       "      <th>36</th>\n",
       "      <td>1</td>\n",
       "      <td>37</td>\n",
       "      <td>36</td>\n",
       "    </tr>\n",
       "    <tr>\n",
       "      <th>37</th>\n",
       "      <td>1</td>\n",
       "      <td>38</td>\n",
       "      <td>37</td>\n",
       "    </tr>\n",
       "    <tr>\n",
       "      <th>38</th>\n",
       "      <td>1</td>\n",
       "      <td>39</td>\n",
       "      <td>38</td>\n",
       "    </tr>\n",
       "    <tr>\n",
       "      <th>39</th>\n",
       "      <td>1</td>\n",
       "      <td>40</td>\n",
       "      <td>39</td>\n",
       "    </tr>\n",
       "    <tr>\n",
       "      <th>40</th>\n",
       "      <td>1</td>\n",
       "      <td>41</td>\n",
       "      <td>40</td>\n",
       "    </tr>\n",
       "    <tr>\n",
       "      <th>41</th>\n",
       "      <td>1</td>\n",
       "      <td>42</td>\n",
       "      <td>41</td>\n",
       "    </tr>\n",
       "    <tr>\n",
       "      <th>42</th>\n",
       "      <td>1</td>\n",
       "      <td>43</td>\n",
       "      <td>42</td>\n",
       "    </tr>\n",
       "    <tr>\n",
       "      <th>43</th>\n",
       "      <td>1</td>\n",
       "      <td>44</td>\n",
       "      <td>43</td>\n",
       "    </tr>\n",
       "    <tr>\n",
       "      <th>44</th>\n",
       "      <td>1</td>\n",
       "      <td>45</td>\n",
       "      <td>44</td>\n",
       "    </tr>\n",
       "    <tr>\n",
       "      <th>45</th>\n",
       "      <td>1</td>\n",
       "      <td>46</td>\n",
       "      <td>45</td>\n",
       "    </tr>\n",
       "    <tr>\n",
       "      <th>46</th>\n",
       "      <td>1</td>\n",
       "      <td>47</td>\n",
       "      <td>46</td>\n",
       "    </tr>\n",
       "    <tr>\n",
       "      <th>47</th>\n",
       "      <td>1</td>\n",
       "      <td>48</td>\n",
       "      <td>47</td>\n",
       "    </tr>\n",
       "    <tr>\n",
       "      <th>48</th>\n",
       "      <td>1</td>\n",
       "      <td>49</td>\n",
       "      <td>48</td>\n",
       "    </tr>\n",
       "    <tr>\n",
       "      <th>49</th>\n",
       "      <td>1</td>\n",
       "      <td>50</td>\n",
       "      <td>49</td>\n",
       "    </tr>\n",
       "  </tbody>\n",
       "</table>\n",
       "</div>"
      ],
      "text/plain": [
       "    from  to  move_id\n",
       "0      1   1        0\n",
       "1      1   2        1\n",
       "2      1   3        2\n",
       "3      1   4        3\n",
       "4      1   5        4\n",
       "5      1   6        5\n",
       "6      1   7        6\n",
       "7      1   8        7\n",
       "8      1   9        8\n",
       "9      1  10        9\n",
       "10     1  11       10\n",
       "11     1  12       11\n",
       "12     1  13       12\n",
       "13     1  14       13\n",
       "14     1  15       14\n",
       "15     1  16       15\n",
       "16     1  17       16\n",
       "17     1  18       17\n",
       "18     1  19       18\n",
       "19     1  20       19\n",
       "20     1  21       20\n",
       "21     1  22       21\n",
       "22     1  23       22\n",
       "23     1  24       23\n",
       "24     1  25       24\n",
       "25     1  26       25\n",
       "26     1  27       26\n",
       "27     1  28       27\n",
       "28     1  29       28\n",
       "29     1  30       29\n",
       "30     1  31       30\n",
       "31     1  32       31\n",
       "32     1  33       32\n",
       "33     1  34       33\n",
       "34     1  35       34\n",
       "35     1  36       35\n",
       "36     1  37       36\n",
       "37     1  38       37\n",
       "38     1  39       38\n",
       "39     1  40       39\n",
       "40     1  41       40\n",
       "41     1  42       41\n",
       "42     1  43       42\n",
       "43     1  44       43\n",
       "44     1  45       44\n",
       "45     1  46       45\n",
       "46     1  47       46\n",
       "47     1  48       47\n",
       "48     1  49       48\n",
       "49     1  50       49"
      ]
     },
     "execution_count": 8,
     "metadata": {},
     "output_type": "execute_result"
    }
   ],
   "source": [
    "capture_moves[capture_moves['from']==1]"
   ]
  },
  {
   "cell_type": "code",
   "execution_count": null,
   "id": "a4c9e642",
   "metadata": {},
   "outputs": [],
   "source": []
  }
 ],
 "metadata": {
  "kernelspec": {
   "display_name": "Python 3 (ipykernel)",
   "language": "python",
   "name": "python3"
  },
  "language_info": {
   "codemirror_mode": {
    "name": "ipython",
    "version": 3
   },
   "file_extension": ".py",
   "mimetype": "text/x-python",
   "name": "python",
   "nbconvert_exporter": "python",
   "pygments_lexer": "ipython3",
   "version": "3.10.2"
  }
 },
 "nbformat": 4,
 "nbformat_minor": 5
}
